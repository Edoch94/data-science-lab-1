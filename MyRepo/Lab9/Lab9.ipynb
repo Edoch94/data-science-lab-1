{
 "cells": [
  {
   "cell_type": "markdown",
   "metadata": {},
   "source": [
    "# Laboratorio 9"
   ]
  },
  {
   "cell_type": "code",
   "execution_count": 63,
   "metadata": {},
   "outputs": [
    {
     "data": {
      "text/plain": [
       "WindowsPath('d:/Documenti/Git_repositories/Data_science_lab/data-science-lab-1/MyRepo/Lab9')"
      ]
     },
     "execution_count": 63,
     "metadata": {},
     "output_type": "execute_result"
    }
   ],
   "source": [
    "from zipfile import ZipFile\n",
    "from pathlib import Path\n",
    "import pandas as pd\n",
    "\n",
    "Path.cwd()"
   ]
  },
  {
   "cell_type": "code",
   "execution_count": 64,
   "metadata": {},
   "outputs": [],
   "source": [
    "with ZipFile('NYC_Airbnb.zip') as zipped_file:\n",
    "    zipped_file.extractall(Path.cwd())"
   ]
  },
  {
   "cell_type": "markdown",
   "metadata": {},
   "source": [
    "1. Load the dataset from the root folder"
   ]
  },
  {
   "cell_type": "code",
   "execution_count": 65,
   "metadata": {},
   "outputs": [],
   "source": [
    "df_dev = pd.read_csv(Path.cwd()/'NYC_Airbnb'/'development.csv', index_col=0)\n",
    "df_eval = pd.read_csv(Path.cwd()/'NYC_Airbnb'/'evaluation.csv', index_col=0)"
   ]
  },
  {
   "cell_type": "code",
   "execution_count": 66,
   "metadata": {},
   "outputs": [
    {
     "name": "stdout",
     "output_type": "stream",
     "text": [
      "<class 'pandas.core.frame.DataFrame'>\n",
      "Int64Index: 39116 entries, 12783632 to 15310580\n",
      "Data columns (total 15 columns):\n",
      " #   Column                          Non-Null Count  Dtype  \n",
      "---  ------                          --------------  -----  \n",
      " 0   name                            39103 non-null  object \n",
      " 1   host_id                         39116 non-null  int64  \n",
      " 2   host_name                       39097 non-null  object \n",
      " 3   neighbourhood_group             39116 non-null  object \n",
      " 4   neighbourhood                   39116 non-null  object \n",
      " 5   latitude                        39116 non-null  float64\n",
      " 6   longitude                       39116 non-null  float64\n",
      " 7   room_type                       39116 non-null  object \n",
      " 8   price                           39116 non-null  int64  \n",
      " 9   minimum_nights                  39116 non-null  int64  \n",
      " 10  number_of_reviews               39116 non-null  int64  \n",
      " 11  last_review                     31075 non-null  object \n",
      " 12  reviews_per_month               31075 non-null  float64\n",
      " 13  calculated_host_listings_count  39116 non-null  int64  \n",
      " 14  availability_365                39116 non-null  int64  \n",
      "dtypes: float64(3), int64(6), object(6)\n",
      "memory usage: 4.8+ MB\n"
     ]
    }
   ],
   "source": [
    "df_dev.info()"
   ]
  },
  {
   "cell_type": "code",
   "execution_count": 67,
   "metadata": {},
   "outputs": [
    {
     "data": {
      "text/html": [
       "<div>\n",
       "<style scoped>\n",
       "    .dataframe tbody tr th:only-of-type {\n",
       "        vertical-align: middle;\n",
       "    }\n",
       "\n",
       "    .dataframe tbody tr th {\n",
       "        vertical-align: top;\n",
       "    }\n",
       "\n",
       "    .dataframe thead th {\n",
       "        text-align: right;\n",
       "    }\n",
       "</style>\n",
       "<table border=\"1\" class=\"dataframe\">\n",
       "  <thead>\n",
       "    <tr style=\"text-align: right;\">\n",
       "      <th></th>\n",
       "      <th>name</th>\n",
       "      <th>host_id</th>\n",
       "      <th>host_name</th>\n",
       "      <th>neighbourhood_group</th>\n",
       "      <th>neighbourhood</th>\n",
       "      <th>latitude</th>\n",
       "      <th>longitude</th>\n",
       "      <th>room_type</th>\n",
       "      <th>price</th>\n",
       "      <th>minimum_nights</th>\n",
       "      <th>number_of_reviews</th>\n",
       "      <th>last_review</th>\n",
       "      <th>reviews_per_month</th>\n",
       "      <th>calculated_host_listings_count</th>\n",
       "      <th>availability_365</th>\n",
       "    </tr>\n",
       "    <tr>\n",
       "      <th>id</th>\n",
       "      <th></th>\n",
       "      <th></th>\n",
       "      <th></th>\n",
       "      <th></th>\n",
       "      <th></th>\n",
       "      <th></th>\n",
       "      <th></th>\n",
       "      <th></th>\n",
       "      <th></th>\n",
       "      <th></th>\n",
       "      <th></th>\n",
       "      <th></th>\n",
       "      <th></th>\n",
       "      <th></th>\n",
       "      <th></th>\n",
       "    </tr>\n",
       "  </thead>\n",
       "  <tbody>\n",
       "    <tr>\n",
       "      <th>12783632</th>\n",
       "      <td>NYC Mini Hotel</td>\n",
       "      <td>57230304</td>\n",
       "      <td>Imanuelly</td>\n",
       "      <td>Queens</td>\n",
       "      <td>Elmhurst</td>\n",
       "      <td>40.74037</td>\n",
       "      <td>-73.88610</td>\n",
       "      <td>Private room</td>\n",
       "      <td>75</td>\n",
       "      <td>1</td>\n",
       "      <td>2</td>\n",
       "      <td>2019-05-26</td>\n",
       "      <td>0.92</td>\n",
       "      <td>3</td>\n",
       "      <td>351</td>\n",
       "    </tr>\n",
       "    <tr>\n",
       "      <th>3463385</th>\n",
       "      <td>Gorgeous room in Manhattan</td>\n",
       "      <td>10698270</td>\n",
       "      <td>Evgenia</td>\n",
       "      <td>Manhattan</td>\n",
       "      <td>Upper East Side</td>\n",
       "      <td>40.76717</td>\n",
       "      <td>-73.95532</td>\n",
       "      <td>Private room</td>\n",
       "      <td>95</td>\n",
       "      <td>1</td>\n",
       "      <td>202</td>\n",
       "      <td>2019-05-27</td>\n",
       "      <td>3.31</td>\n",
       "      <td>2</td>\n",
       "      <td>263</td>\n",
       "    </tr>\n",
       "    <tr>\n",
       "      <th>17572926</th>\n",
       "      <td>Great 1 Bedroom on Upper East</td>\n",
       "      <td>36578169</td>\n",
       "      <td>James</td>\n",
       "      <td>Manhattan</td>\n",
       "      <td>Upper East Side</td>\n",
       "      <td>40.77984</td>\n",
       "      <td>-73.94725</td>\n",
       "      <td>Entire home/apt</td>\n",
       "      <td>130</td>\n",
       "      <td>2</td>\n",
       "      <td>0</td>\n",
       "      <td>NaN</td>\n",
       "      <td>NaN</td>\n",
       "      <td>1</td>\n",
       "      <td>0</td>\n",
       "    </tr>\n",
       "    <tr>\n",
       "      <th>33913644</th>\n",
       "      <td>Modern and bright 2Bed 2Bath Bushwick, Brooklyn</td>\n",
       "      <td>50981314</td>\n",
       "      <td>Ofier</td>\n",
       "      <td>Brooklyn</td>\n",
       "      <td>Bushwick</td>\n",
       "      <td>40.70205</td>\n",
       "      <td>-73.91338</td>\n",
       "      <td>Entire home/apt</td>\n",
       "      <td>150</td>\n",
       "      <td>2</td>\n",
       "      <td>4</td>\n",
       "      <td>2019-07-07</td>\n",
       "      <td>1.64</td>\n",
       "      <td>1</td>\n",
       "      <td>89</td>\n",
       "    </tr>\n",
       "    <tr>\n",
       "      <th>9405895</th>\n",
       "      <td>Stylish and zen Brooklyn retreat</td>\n",
       "      <td>48775347</td>\n",
       "      <td>Mathieu</td>\n",
       "      <td>Brooklyn</td>\n",
       "      <td>Fort Greene</td>\n",
       "      <td>40.68914</td>\n",
       "      <td>-73.97853</td>\n",
       "      <td>Entire home/apt</td>\n",
       "      <td>325</td>\n",
       "      <td>3</td>\n",
       "      <td>16</td>\n",
       "      <td>2019-04-20</td>\n",
       "      <td>0.42</td>\n",
       "      <td>1</td>\n",
       "      <td>103</td>\n",
       "    </tr>\n",
       "  </tbody>\n",
       "</table>\n",
       "</div>"
      ],
      "text/plain": [
       "                                                     name   host_id  \\\n",
       "id                                                                    \n",
       "12783632                                   NYC Mini Hotel  57230304   \n",
       "3463385                        Gorgeous room in Manhattan  10698270   \n",
       "17572926                    Great 1 Bedroom on Upper East  36578169   \n",
       "33913644  Modern and bright 2Bed 2Bath Bushwick, Brooklyn  50981314   \n",
       "9405895                  Stylish and zen Brooklyn retreat  48775347   \n",
       "\n",
       "          host_name neighbourhood_group    neighbourhood  latitude  longitude  \\\n",
       "id                                                                              \n",
       "12783632  Imanuelly              Queens         Elmhurst  40.74037  -73.88610   \n",
       "3463385     Evgenia           Manhattan  Upper East Side  40.76717  -73.95532   \n",
       "17572926      James           Manhattan  Upper East Side  40.77984  -73.94725   \n",
       "33913644      Ofier            Brooklyn         Bushwick  40.70205  -73.91338   \n",
       "9405895     Mathieu            Brooklyn      Fort Greene  40.68914  -73.97853   \n",
       "\n",
       "                room_type  price  minimum_nights  number_of_reviews  \\\n",
       "id                                                                    \n",
       "12783632     Private room     75               1                  2   \n",
       "3463385      Private room     95               1                202   \n",
       "17572926  Entire home/apt    130               2                  0   \n",
       "33913644  Entire home/apt    150               2                  4   \n",
       "9405895   Entire home/apt    325               3                 16   \n",
       "\n",
       "         last_review  reviews_per_month  calculated_host_listings_count  \\\n",
       "id                                                                        \n",
       "12783632  2019-05-26               0.92                               3   \n",
       "3463385   2019-05-27               3.31                               2   \n",
       "17572926         NaN                NaN                               1   \n",
       "33913644  2019-07-07               1.64                               1   \n",
       "9405895   2019-04-20               0.42                               1   \n",
       "\n",
       "          availability_365  \n",
       "id                          \n",
       "12783632               351  \n",
       "3463385                263  \n",
       "17572926                 0  \n",
       "33913644                89  \n",
       "9405895                103  "
      ]
     },
     "execution_count": 67,
     "metadata": {},
     "output_type": "execute_result"
    }
   ],
   "source": [
    "df_dev.head()"
   ]
  },
  {
   "cell_type": "code",
   "execution_count": 68,
   "metadata": {},
   "outputs": [],
   "source": [
    "df = pd.concat([df_dev,df_eval],axis=0)"
   ]
  },
  {
   "cell_type": "code",
   "execution_count": 69,
   "metadata": {},
   "outputs": [
    {
     "data": {
      "text/plain": [
       "name                               True\n",
       "host_id                           False\n",
       "host_name                          True\n",
       "neighbourhood_group               False\n",
       "neighbourhood                     False\n",
       "latitude                          False\n",
       "longitude                         False\n",
       "room_type                         False\n",
       "price                              True\n",
       "minimum_nights                    False\n",
       "number_of_reviews                 False\n",
       "last_review                        True\n",
       "reviews_per_month                  True\n",
       "calculated_host_listings_count    False\n",
       "availability_365                  False\n",
       "dtype: bool"
      ]
     },
     "execution_count": 69,
     "metadata": {},
     "output_type": "execute_result"
    }
   ],
   "source": [
    "df.isna().any()"
   ]
  },
  {
   "cell_type": "code",
   "execution_count": 70,
   "metadata": {},
   "outputs": [],
   "source": [
    "df['reviews_per_month'].fillna(0,inplace=True)"
   ]
  },
  {
   "cell_type": "markdown",
   "metadata": {},
   "source": [
    "Dummy:  \n",
    "'neighbourhood_group', 'neighbourhood','room_type'  \n",
    "Discard:  \n",
    "'host_id','name','host_name','last_review'"
   ]
  },
  {
   "cell_type": "code",
   "execution_count": 71,
   "metadata": {},
   "outputs": [],
   "source": [
    "df_1h = pd.get_dummies(df,columns=['neighbourhood_group', 'neighbourhood','room_type'])\n",
    "df_dropped = df_1h.drop(['host_id','name','host_name','last_review'], axis=1)"
   ]
  },
  {
   "cell_type": "code",
   "execution_count": 91,
   "metadata": {},
   "outputs": [],
   "source": [
    "from sklearn.model_selection import train_test_split\n",
    "\n",
    "train_and_val_mask = df_dropped['price'].notna()\n",
    "\n",
    "feature_names = df_dropped.drop('price',axis=1).columns\n",
    "\n",
    "X = df_dropped.loc[:,list(feature_names)].values\n",
    "y = df_dropped['price'].values\n",
    "\n",
    "X_train_and_val = X[train_and_val_mask]\n",
    "y_train_and_val = y[train_and_val_mask]\n",
    "X_test = X[~train_and_val_mask]\n",
    "y_test = y[~train_and_val_mask]\n",
    "\n",
    "X_train, X_valid, y_train, y_valid= train_test_split(X_train_and_val, y_train_and_val, shuffle=True, random_state=42)"
   ]
  },
  {
   "cell_type": "code",
   "execution_count": 94,
   "metadata": {},
   "outputs": [
    {
     "data": {
      "text/plain": [
       "0.07128877883880957"
      ]
     },
     "execution_count": 94,
     "metadata": {},
     "output_type": "execute_result"
    }
   ],
   "source": [
    "from sklearn.ensemble import RandomForestRegressor\n",
    "from sklearn.metrics import r2_score\n",
    "\n",
    "reg = RandomForestRegressor(n_estimators=100, random_state=42, n_jobs=-2)\n",
    "reg.fit(X_train,y_train)\n",
    "y_pred = reg.predict(X_valid)\n",
    "r2_score(y_valid,y_pred)"
   ]
  },
  {
   "cell_type": "code",
   "execution_count": 104,
   "metadata": {},
   "outputs": [
    {
     "data": {
      "text/plain": [
       "longitude                       2.011533e-01\n",
       "latitude                        2.007119e-01\n",
       "availability_365                9.798847e-02\n",
       "minimum_nights                  8.811410e-02\n",
       "reviews_per_month               6.634125e-02\n",
       "                                    ...     \n",
       "neighbourhood_New Brighton      1.698312e-09\n",
       "neighbourhood_Richmondtown      0.000000e+00\n",
       "neighbourhood_Neponsit          0.000000e+00\n",
       "neighbourhood_Woodrow           0.000000e+00\n",
       "neighbourhood_Fort Wadsworth    0.000000e+00\n",
       "Name: importances, Length: 236, dtype: float64"
      ]
     },
     "execution_count": 104,
     "metadata": {},
     "output_type": "execute_result"
    }
   ],
   "source": [
    "reg_feature_importances_1 = pd.Series(reg.feature_importances_, index=feature_names, name='importances').sort_values(ascending=False)\n",
    "reg_feature_importances_1"
   ]
  },
  {
   "cell_type": "markdown",
   "metadata": {},
   "source": [
    "Dummy:  \n",
    "'neighbourhood_group', 'neighbourhood','room_type'  \n",
    "Discard:  \n",
    "'host_id','name','host_name','last_review'"
   ]
  },
  {
   "cell_type": "code",
   "execution_count": 114,
   "metadata": {},
   "outputs": [],
   "source": [
    "df_1h = pd.get_dummies(df, columns=['room_type'])\n",
    "df_dropped = df_1h.drop(['neighbourhood_group', 'neighbourhood','host_id','name','host_name','last_review'],axis=1)\n",
    "\n",
    "train_and_val_mask = df_dropped['price'].notna()\n",
    "\n",
    "feature_names = df_dropped.drop('price',axis=1).columns\n",
    "\n",
    "X = df_dropped.drop('price',axis=1).values\n",
    "y = df_dropped['price'].values\n",
    "\n",
    "X_train_and_val = X[train_and_val_mask]\n",
    "y_train_and_val = y[train_and_val_mask]\n",
    "X_test = X[~train_and_val_mask]\n",
    "y_test = y[~train_and_val_mask]\n",
    "\n",
    "X_train, X_valid, y_train, y_valid= train_test_split(X_train_and_val, y_train_and_val, shuffle=True, random_state=42)"
   ]
  },
  {
   "cell_type": "code",
   "execution_count": 115,
   "metadata": {},
   "outputs": [
    {
     "data": {
      "text/plain": [
       "0.10485905409912633"
      ]
     },
     "execution_count": 115,
     "metadata": {},
     "output_type": "execute_result"
    }
   ],
   "source": [
    "from sklearn.ensemble import RandomForestRegressor\n",
    "from sklearn.metrics import r2_score\n",
    "\n",
    "reg = RandomForestRegressor(n_estimators=100, random_state=42, n_jobs=-2)\n",
    "reg.fit(X_train,y_train)\n",
    "y_pred = reg.predict(X_valid)\n",
    "r2_score(y_valid,y_pred)"
   ]
  },
  {
   "cell_type": "code",
   "execution_count": 116,
   "metadata": {},
   "outputs": [
    {
     "data": {
      "text/plain": [
       "longitude                         0.310636\n",
       "latitude                          0.243221\n",
       "availability_365                  0.102062\n",
       "minimum_nights                    0.094534\n",
       "reviews_per_month                 0.070677\n",
       "room_type_Entire home/apt         0.063075\n",
       "calculated_host_listings_count    0.060979\n",
       "number_of_reviews                 0.053690\n",
       "room_type_Shared room             0.000705\n",
       "room_type_Private room            0.000421\n",
       "Name: importances, dtype: float64"
      ]
     },
     "execution_count": 116,
     "metadata": {},
     "output_type": "execute_result"
    }
   ],
   "source": [
    "reg_feature_importances_1 = pd.Series(reg.feature_importances_, index=feature_names, name='importances').sort_values(ascending=False)\n",
    "reg_feature_importances_1"
   ]
  },
  {
   "cell_type": "markdown",
   "metadata": {},
   "source": [
    "Including 'id' and 'host_id' in the analysis"
   ]
  },
  {
   "cell_type": "code",
   "execution_count": 117,
   "metadata": {},
   "outputs": [],
   "source": [
    "df_1h = pd.get_dummies(df, columns=['room_type'])\n",
    "df_1h['id'] = df_1h.index\n",
    "df_dropped = df_1h.drop(['neighbourhood_group', 'neighbourhood','name','host_name','last_review'],axis=1)\n",
    "\n",
    "train_and_val_mask = df_dropped['price'].notna()\n",
    "\n",
    "feature_names = df_dropped.drop('price',axis=1).columns\n",
    "\n",
    "X = df_dropped.drop('price',axis=1).values\n",
    "y = df_dropped['price'].values\n",
    "\n",
    "X_train_and_val = X[train_and_val_mask]\n",
    "y_train_and_val = y[train_and_val_mask]\n",
    "X_test = X[~train_and_val_mask]\n",
    "y_test = y[~train_and_val_mask]\n",
    "\n",
    "X_train, X_valid, y_train, y_valid= train_test_split(X_train_and_val, y_train_and_val, shuffle=True, random_state=42)"
   ]
  },
  {
   "cell_type": "code",
   "execution_count": 119,
   "metadata": {},
   "outputs": [
    {
     "data": {
      "text/plain": [
       "0.13278619065870456"
      ]
     },
     "execution_count": 119,
     "metadata": {},
     "output_type": "execute_result"
    }
   ],
   "source": [
    "from sklearn.ensemble import RandomForestRegressor\n",
    "from sklearn.metrics import r2_score\n",
    "\n",
    "reg = RandomForestRegressor(n_estimators=100, random_state=42, n_jobs=-2)\n",
    "reg.fit(X_train,y_train)\n",
    "y_pred = reg.predict(X_valid)\n",
    "r2_score(y_valid,y_pred)"
   ]
  },
  {
   "cell_type": "code",
   "execution_count": 120,
   "metadata": {},
   "outputs": [
    {
     "data": {
      "text/plain": [
       "longitude                         0.203147\n",
       "host_id                           0.176144\n",
       "id                                0.146732\n",
       "latitude                          0.130673\n",
       "minimum_nights                    0.078468\n",
       "availability_365                  0.077420\n",
       "room_type_Entire home/apt         0.063075\n",
       "reviews_per_month                 0.043341\n",
       "calculated_host_listings_count    0.043281\n",
       "number_of_reviews                 0.037004\n",
       "room_type_Private room            0.000435\n",
       "room_type_Shared room             0.000280\n",
       "Name: importances, dtype: float64"
      ]
     },
     "execution_count": 120,
     "metadata": {},
     "output_type": "execute_result"
    }
   ],
   "source": [
    "reg_feature_importances_1 = pd.Series(reg.feature_importances_, index=feature_names, name='importances').sort_values(ascending=False)\n",
    "reg_feature_importances_1"
   ]
  },
  {
   "cell_type": "markdown",
   "metadata": {},
   "source": [
    "### Exploration of the post titles"
   ]
  },
  {
   "cell_type": "code",
   "execution_count": 123,
   "metadata": {},
   "outputs": [
    {
     "name": "stdout",
     "output_type": "stream",
     "text": [
      "\n"
     ]
    }
   ],
   "source": [
    "from sklearn.feature_extraction.text import TfidfVectorizer\n",
    "\n",
    "vectorizer = TfidfVectorizer(stop_words=\"english\", binary=True, use_idf=False, norm=False)\n",
    "\n",
    "wpm = vectorizer.fit_transform(df_1h[\"name\"].fillna(\"\"))\n",
    "\n",
    "print(wpm[:5,:5])"
   ]
  }
 ],
 "metadata": {
  "interpreter": {
   "hash": "bd8ee3559d665fee903f84f74f9742602cb00cb47768a52cae0fe6e115d1a823"
  },
  "kernelspec": {
   "display_name": "Python 3.8.12 64-bit ('data_science_lab_2': conda)",
   "language": "python",
   "name": "python3"
  },
  "language_info": {
   "codemirror_mode": {
    "name": "ipython",
    "version": 3
   },
   "file_extension": ".py",
   "mimetype": "text/x-python",
   "name": "python",
   "nbconvert_exporter": "python",
   "pygments_lexer": "ipython3",
   "version": "3.8.12"
  },
  "orig_nbformat": 4
 },
 "nbformat": 4,
 "nbformat_minor": 2
}
