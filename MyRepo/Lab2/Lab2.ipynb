{
 "cells": [
  {
   "cell_type": "markdown",
   "metadata": {},
   "source": [
    "# LAB 2"
   ]
  },
  {
   "cell_type": "markdown",
   "metadata": {},
   "source": [
    "## Data preprocessing on Global Land Temperature"
   ]
  },
  {
   "cell_type": "code",
   "execution_count": 33,
   "metadata": {},
   "outputs": [],
   "source": [
    "# !wget \"https://raw.githubusercontent.com/dbdmg/data-science-lab/master/datasets/GLT_filtered.csv\" -O GLT_filtered.csv"
   ]
  },
  {
   "cell_type": "markdown",
   "metadata": {},
   "source": [
    "1. Load the Global Land Temperature dataset as a list of lists. Before starting, take a moment to bet\u0002ter inspect the attributes you are going to work on. How many of them are nominal, how many\n",
    "continuous or discrete?"
   ]
  },
  {
   "cell_type": "code",
   "execution_count": 34,
   "metadata": {},
   "outputs": [],
   "source": [
    "import csv\n",
    "import pandas as pd\n",
    "import numpy as np"
   ]
  },
  {
   "cell_type": "markdown",
   "metadata": {},
   "source": [
    "2. Analyze the attribute AverageTemperature, which contains missing values. Fill any gap with the arithmetic mean among the closest antecedent and the closest successive measurements in time, taken in the same city. Assume the following rules for edge cases:"
   ]
  },
  {
   "cell_type": "markdown",
   "metadata": {},
   "source": [
    "a. it can happen that a missing value does not have a preceding (or successive) measurement. This happens when the missing value is the first (or last) value of the dataset. If this is the case, consider the missing value to be preceded (or followed) by a 0, then compute the mean accordingly"
   ]
  },
  {
   "cell_type": "markdown",
   "metadata": {},
   "source": [
    "b. if there are consecutive missing values, just compute them in temporal order and use the newly inserted values to evaluate the following ones. Here it is an example with a simple list where both (a) and (b) rules have been applied"
   ]
  },
  {
   "cell_type": "markdown",
   "metadata": {},
   "source": [
    "Definisco le funzioni per il calcolo delle medie di temperatura"
   ]
  },
  {
   "cell_type": "code",
   "execution_count": 35,
   "metadata": {},
   "outputs": [],
   "source": [
    "def mean_calc_df_init(df):\n",
    "    if np.isnan(df['AverageTemperature_filled']) and df['row_num'] == 1:\n",
    "        return df['next_not_null_AvgTemp']/2\n",
    "    else: \n",
    "        return df['AverageTemperature_filled']\n",
    "\n",
    "def mean_calc_df_last(df):\n",
    "    if np.isnan(df['AverageTemperature_filled']):\n",
    "        return df['prev_not_null_AvgTemp']/2\n",
    "    else: \n",
    "        return df['AverageTemperature_filled']\n",
    "\n",
    "def mean_calc_df(df):\n",
    "    if np.isnan(df['AverageTemperature_filled']):\n",
    "        v = sum([2**i for i in range(0,df['consective_nones_pos'])])\n",
    "        return (df['prev_not_null_AvgTemp'] + df['next_not_null_AvgTemp']*v)/(2**(df['consective_nones_pos']))\n",
    "    else: \n",
    "        return df['AverageTemperature_filled']"
   ]
  },
  {
   "cell_type": "markdown",
   "metadata": {},
   "source": [
    "Importo i dati"
   ]
  },
  {
   "cell_type": "code",
   "execution_count": 36,
   "metadata": {},
   "outputs": [],
   "source": [
    "GLT_filtered = pd.read_csv('GLT_filtered.csv')"
   ]
  },
  {
   "cell_type": "markdown",
   "metadata": {},
   "source": [
    "Trasformo il tipo di 'Date' in date e 'AverageTemperature' in valore numerico"
   ]
  },
  {
   "cell_type": "code",
   "execution_count": 37,
   "metadata": {},
   "outputs": [],
   "source": [
    "GLT_filtered['Date'] = pd.to_datetime(GLT_filtered['Date'], format = '%Y-%m-%d')\n",
    "GLT_filtered['AverageTemperature'] = pd.to_numeric(GLT_filtered['AverageTemperature']) \n",
    "# pd.to_numeric(GLT_filtered['AverageTemperature'], errors='coerce')"
   ]
  },
  {
   "cell_type": "markdown",
   "metadata": {},
   "source": [
    "Creo la colonna che ospiterà le temperature medie senza NAN"
   ]
  },
  {
   "cell_type": "code",
   "execution_count": 38,
   "metadata": {},
   "outputs": [],
   "source": [
    "GLT_filtered['AverageTemperature_filled'] = GLT_filtered['AverageTemperature']"
   ]
  },
  {
   "cell_type": "markdown",
   "metadata": {},
   "source": [
    "Aggiungo il numero del record per ciascuna sezione relativa alle città"
   ]
  },
  {
   "cell_type": "code",
   "execution_count": 39,
   "metadata": {},
   "outputs": [],
   "source": [
    "GLT_filtered['row_num'] = GLT_filtered\\\n",
    "    .groupby(['City'])\\\n",
    "    .cumcount()+1"
   ]
  },
  {
   "cell_type": "markdown",
   "metadata": {},
   "source": [
    "Aggiungo colonna con prime temperature medie successive non NAN"
   ]
  },
  {
   "cell_type": "code",
   "execution_count": 40,
   "metadata": {},
   "outputs": [],
   "source": [
    "GLT_filtered['next_not_null_AvgTemp'] = GLT_filtered['AverageTemperature_filled']\n",
    "GLT_filtered['next_not_null_AvgTemp'] = GLT_filtered\\\n",
    "    .groupby(['City'])['next_not_null_AvgTemp']\\\n",
    "    .backfill()"
   ]
  },
  {
   "cell_type": "markdown",
   "metadata": {},
   "source": [
    "Do il valore iniziale alla temperatura media nel caso in cui sia NAN nel primo record relativo a una città"
   ]
  },
  {
   "cell_type": "code",
   "execution_count": 41,
   "metadata": {},
   "outputs": [],
   "source": [
    "GLT_filtered['AverageTemperature_filled'] = GLT_filtered.apply(mean_calc_df_init, axis=1)"
   ]
  },
  {
   "cell_type": "markdown",
   "metadata": {},
   "source": [
    "Aggiungo colonna con prime temperature medie precedenti non NAN"
   ]
  },
  {
   "cell_type": "code",
   "execution_count": 42,
   "metadata": {},
   "outputs": [],
   "source": [
    "GLT_filtered['prev_not_null_AvgTemp'] = GLT_filtered['AverageTemperature_filled']\n",
    "GLT_filtered['prev_not_null_AvgTemp'] = GLT_filtered\\\n",
    "    .groupby(['City'])['prev_not_null_AvgTemp']\\\n",
    "    .ffill()\n"
   ]
  },
  {
   "cell_type": "markdown",
   "metadata": {},
   "source": [
    "Aggiungo colonna con check valori nulli ({0,1}) in 'AverageTemperature_filled', colonna di appoggio con cumsum e colonna di appoggio con cumsum raggruppata su colonna precedente e su 'Città' "
   ]
  },
  {
   "cell_type": "code",
   "execution_count": 43,
   "metadata": {},
   "outputs": [],
   "source": [
    "GLT_filtered['avg_is_none'] = 0\n",
    "GLT_filtered.loc[GLT_filtered['AverageTemperature_filled'].isnull(), 'avg_is_none'] = 1\n",
    "GLT_filtered['consective_nones'] = (GLT_filtered['avg_is_none'] != GLT_filtered['avg_is_none'].shift(1)).cumsum()\n",
    "GLT_filtered['consective_nones_pos'] = GLT_filtered\\\n",
    "    .groupby(['City','consective_nones'])['avg_is_none']\\\n",
    "    .cumsum()"
   ]
  },
  {
   "cell_type": "markdown",
   "metadata": {},
   "source": [
    "Applico funzione per riempire i NAN"
   ]
  },
  {
   "cell_type": "code",
   "execution_count": 44,
   "metadata": {},
   "outputs": [],
   "source": [
    "GLT_filtered['AverageTemperature_filled'] = GLT_filtered.apply(mean_calc_df, axis=1)"
   ]
  },
  {
   "cell_type": "markdown",
   "metadata": {},
   "source": [
    "Applico funzione per eliminare i NAN rimanenti sugli ultimi record di ogni sezione 'Città'"
   ]
  },
  {
   "cell_type": "code",
   "execution_count": 45,
   "metadata": {},
   "outputs": [],
   "source": [
    "GLT_filtered['AverageTemperature_filled'] = GLT_filtered.apply(mean_calc_df_last, axis=1)"
   ]
  },
  {
   "cell_type": "markdown",
   "metadata": {},
   "source": [
    "Elimino colonne di appoggio"
   ]
  },
  {
   "cell_type": "code",
   "execution_count": 46,
   "metadata": {},
   "outputs": [],
   "source": [
    "GLT_filtered = GLT_filtered.drop(['row_num', 'next_not_null_AvgTemp','prev_not_null_AvgTemp', 'avg_is_none', 'consective_nones','consective_nones_pos'], axis=1)"
   ]
  },
  {
   "cell_type": "code",
   "execution_count": 47,
   "metadata": {},
   "outputs": [],
   "source": [
    "# a = GLT_filtered[GLT_filtered['AverageTemperature_filled'].isnull()]\n",
    "# b = GLT_filtered.groupby('City').first()\n",
    "# c = GLT_filtered.groupby('City').last()"
   ]
  },
  {
   "cell_type": "markdown",
   "metadata": {},
   "source": [
    "2. Define a function that, given the name of a city and an integer N > 0, prints:  \n",
    "    a. the top N hottest measurements;  \n",
    "    b. the top N coldest measurements"
   ]
  },
  {
   "cell_type": "code",
   "execution_count": 48,
   "metadata": {},
   "outputs": [],
   "source": [
    "def top_temperatures_city(df, name):\n",
    "    df_out = df[df['City'] == name] \n",
    "    df_out_1 = df_out.nlargest(10,'AverageTemperature_filled')\n",
    "    df_out_2 = df_out.nsmallest(10,'AverageTemperature_filled')\n",
    "    return (df_out_1,df_out_2)\n",
    "    # return(df_out)"
   ]
  },
  {
   "cell_type": "code",
   "execution_count": 49,
   "metadata": {},
   "outputs": [
    {
     "name": "stdout",
     "output_type": "stream",
     "text": [
      "             Date  AverageTemperature  AverageTemperatureUncertainty  City  \\\n",
      "173742 2003-08-01              25.951                          0.395  Rome   \n",
      "173741 2003-07-01              24.998                          0.331  Rome   \n",
      "173634 1994-08-01              24.873                          0.250  Rome   \n",
      "173850 2012-08-01              24.731                          0.559  Rome   \n",
      "173849 2012-07-01              24.480                          0.476  Rome   \n",
      "173105 1950-07-01              24.380                          0.416  Rome   \n",
      "173610 1992-08-01              24.294                          0.417  Rome   \n",
      "172841 1928-07-01              24.252                          0.323  Rome   \n",
      "173718 2001-08-01              24.210                          0.449  Rome   \n",
      "173681 1998-07-01              24.169                          0.238  Rome   \n",
      "\n",
      "       Country Latitude Longitude  AverageTemperature_filled  \n",
      "173742   Italy   42.59N    13.09E                     25.951  \n",
      "173741   Italy   42.59N    13.09E                     24.998  \n",
      "173634   Italy   42.59N    13.09E                     24.873  \n",
      "173850   Italy   42.59N    13.09E                     24.731  \n",
      "173849   Italy   42.59N    13.09E                     24.480  \n",
      "173105   Italy   42.59N    13.09E                     24.380  \n",
      "173610   Italy   42.59N    13.09E                     24.294  \n",
      "172841   Italy   42.59N    13.09E                     24.252  \n",
      "173718   Italy   42.59N    13.09E                     24.210  \n",
      "173681   Italy   42.59N    13.09E                     24.169  \n",
      "             Date  AverageTemperature  AverageTemperatureUncertainty  City  \\\n",
      "173003 1942-01-01              -1.441                          0.740  Rome   \n",
      "173172 1956-02-01              -1.304                          0.497  Rome   \n",
      "172067 1864-01-01              -1.019                          0.934  Rome   \n",
      "171659 1830-01-01              -0.871                          3.469  Rome   \n",
      "172415 1893-01-01              -0.783                          0.886  Rome   \n",
      "171995 1858-01-01              -0.707                          2.449  Rome   \n",
      "172259 1880-01-01              -0.538                          1.056  Rome   \n",
      "172391 1891-01-01              -0.275                          0.741  Rome   \n",
      "172559 1905-01-01              -0.159                          0.551  Rome   \n",
      "172162 1871-12-01              -0.068                          0.723  Rome   \n",
      "\n",
      "       Country Latitude Longitude  AverageTemperature_filled  \n",
      "173003   Italy   42.59N    13.09E                     -1.441  \n",
      "173172   Italy   42.59N    13.09E                     -1.304  \n",
      "172067   Italy   42.59N    13.09E                     -1.019  \n",
      "171659   Italy   42.59N    13.09E                     -0.871  \n",
      "172415   Italy   42.59N    13.09E                     -0.783  \n",
      "171995   Italy   42.59N    13.09E                     -0.707  \n",
      "172259   Italy   42.59N    13.09E                     -0.538  \n",
      "172391   Italy   42.59N    13.09E                     -0.275  \n",
      "172559   Italy   42.59N    13.09E                     -0.159  \n",
      "172162   Italy   42.59N    13.09E                     -0.068  \n"
     ]
    }
   ],
   "source": [
    "highest,lowest = top_temperatures_city(df=GLT_filtered,name='Rome')\n",
    "print(highest)\n",
    "print(lowest)"
   ]
  },
  {
   "cell_type": "markdown",
   "metadata": {},
   "source": [
    "4. Let’s search for other anomalies in data distribution with the help of matplotlib. Plot the distri-\n",
    "bution of the average land temperatures for Rome and Bangkok using the aforementioned histogram\n",
    "plotting function."
   ]
  },
  {
   "cell_type": "code",
   "execution_count": 50,
   "metadata": {},
   "outputs": [],
   "source": [
    "import matplotlib.pyplot as plt\n",
    "%matplotlib inline"
   ]
  },
  {
   "cell_type": "code",
   "execution_count": 51,
   "metadata": {},
   "outputs": [
    {
     "data": {
      "image/png": "[encoded data removed]",
      "text/plain": [
       "<Figure size 432x288 with 1 Axes>"
      ]
     },
     "metadata": {
      "needs_background": "light"
     },
     "output_type": "display_data"
    }
   ],
   "source": [
    "plt.hist(GLT_filtered[GLT_filtered['City'] == 'Rome'].filter(['AverageTemperature_filled']))\n",
    "plt.title('Rome average temperatures')\n",
    "plt.show()"
   ]
  },
  {
   "cell_type": "code",
   "execution_count": 52,
   "metadata": {},
   "outputs": [
    {
     "data": {
      "image/png": "[encoded data removed]",
      "text/plain": [
       "<Figure size 432x288 with 1 Axes>"
      ]
     },
     "metadata": {
      "needs_background": "light"
     },
     "output_type": "display_data"
    }
   ],
   "source": [
    "plt.hist(GLT_filtered[GLT_filtered['City'] == 'Bangkok'].filter(['AverageTemperature_filled']))\n",
    "plt.title('Bangkok average temperatures')\n",
    "plt.show()"
   ]
  },
  {
   "cell_type": "markdown",
   "metadata": {},
   "source": [
    "5. One might think that Bangkok sensor provide temperature samples in degrees Fahrenheit while the ones located in Rome use the Celsius notation, which is the common representation in the whole dataset. Write a function to transform Fahrenheit measurements back to Celsius, apply it to your data and plot the two distribution again."
   ]
  },
  {
   "cell_type": "code",
   "execution_count": 53,
   "metadata": {},
   "outputs": [],
   "source": [
    "def fahrenheit_to_celsius(value):\n",
    "    return (value - 32) / 1.8"
   ]
  },
  {
   "cell_type": "code",
   "execution_count": 54,
   "metadata": {},
   "outputs": [
    {
     "data": {
      "image/png": "[encoded data removed]",
      "text/plain": [
       "<Figure size 432x288 with 1 Axes>"
      ]
     },
     "metadata": {
      "needs_background": "light"
     },
     "output_type": "display_data"
    }
   ],
   "source": [
    "plt.hist(GLT_filtered[GLT_filtered['City'] == 'Bangkok']['AverageTemperature_filled'].transform(fahrenheit_to_celsius))\n",
    "plt.title('Bangkok average temperatures (in Celsius')\n",
    "plt.show()"
   ]
  },
  {
   "cell_type": "markdown",
   "metadata": {},
   "source": [
    "## Textual data preparation on IMDB reviews"
   ]
  },
  {
   "cell_type": "markdown",
   "metadata": {},
   "source": [
    "1. Load the IMDb dataset as a list of lists"
   ]
  },
  {
   "cell_type": "code",
   "execution_count": 55,
   "metadata": {},
   "outputs": [],
   "source": [
    "aclimdb_reviews_train = []\n",
    "with open('aclimdb_reviews_train.txt', encoding=\"utf8\") as f:\n",
    "    for row in f:\n",
    "        aclimdb_reviews_train.append(row)\n",
    "aclimdb_reviews_train = aclimdb_reviews_train[1:]"
   ]
  },
  {
   "cell_type": "markdown",
   "metadata": {},
   "source": [
    "2. Apply the tokenization function listed below to your reviews. Please refer to the function’s docstring 1 for the input and output parameters. The tokenization procedure splits each comment in tokens (i.e. separate words)."
   ]
  },
  {
   "cell_type": "code",
   "execution_count": 56,
   "metadata": {},
   "outputs": [],
   "source": [
    "import string\n",
    "def tokenize(docs):\n",
    "    \"\"\"Compute the tokens for each document.\n",
    "    Input: a list of strings. Each item is a document to tokenize.\n",
    "    Output: a list of lists. Each item is a list containing the tokens of the\n",
    "    relative document.\n",
    "    \"\"\"\n",
    "    tokens = []\n",
    "    for doc in docs:\n",
    "        for punct in string.punctuation:\n",
    "            doc = doc.replace(punct, \" \")\n",
    "        split_doc = [ token.lower() for token in doc.split(\" \") if token ]\n",
    "        tokens.append(split_doc)\n",
    "    return tokens"
   ]
  },
  {
   "cell_type": "code",
   "execution_count": 57,
   "metadata": {},
   "outputs": [],
   "source": [
    "aclimdb_reviews_train_tokenized = tokenize(aclimdb_reviews_train)\n",
    "\n",
    "# aclimdb_reviews_train_tokenized"
   ]
  },
  {
   "cell_type": "markdown",
   "metadata": {},
   "source": [
    "3. The next step requires the computation of the term frequency (TF) of each token within its respective document. Although there exist different techniques to evaluate the frequency, we will now assume that the TF of a token t in a document d is equal to the number of occurrences of t in d. Compute the TF for all your reviews."
   ]
  },
  {
   "cell_type": "code",
   "execution_count": 58,
   "metadata": {},
   "outputs": [],
   "source": [
    "from collections import Counter\n",
    "\n",
    "def words_counter(docs):\n",
    "    dicts = []\n",
    "    for doc in docs:\n",
    "        dicts.append(dict(Counter(doc)))\n",
    "    return dicts"
   ]
  },
  {
   "cell_type": "code",
   "execution_count": 59,
   "metadata": {},
   "outputs": [],
   "source": [
    "aclimdb_reviews_train_dicts = words_counter(aclimdb_reviews_train_tokenized)"
   ]
  },
  {
   "cell_type": "markdown",
   "metadata": {},
   "source": [
    "4. We will now compute the inverse document frequency (IDF). While the TF gives an idea of the weight of a token within a document, the IDF is used to find its significance among the entire collection of documents (i.e. your reviews)"
   ]
  },
  {
   "cell_type": "code",
   "execution_count": 60,
   "metadata": {},
   "outputs": [],
   "source": [
    "import math\n",
    "\n",
    "def compute_IDF(TF_list):\n",
    "    DF = {}\n",
    "    N = len(TF_list)\n",
    "\n",
    "    for doc in TF_list:\n",
    "        for token in doc.keys():\n",
    "            DF[token] = DF.get(token, 0) + 1\n",
    "    return {token : math.log(N/value) for token, value in DF.items()}\n",
    "        "
   ]
  },
  {
   "cell_type": "code",
   "execution_count": 61,
   "metadata": {},
   "outputs": [],
   "source": [
    "IDF_tokens = compute_IDF(aclimdb_reviews_train_dicts)"
   ]
  },
  {
   "cell_type": "code",
   "execution_count": 62,
   "metadata": {},
   "outputs": [],
   "source": [
    "IDF_tokens_sorted = sorted(IDF_tokens.items(), key=lambda x: x[1])"
   ]
  },
  {
   "cell_type": "code",
   "execution_count": 63,
   "metadata": {},
   "outputs": [
    {
     "data": {
      "text/plain": [
       "[('the', 0.008314469604085238),\n",
       " ('a', 0.03351541933781697),\n",
       " ('and', 0.03401190259170586),\n",
       " ('of', 0.05226218466281087),\n",
       " ('to', 0.06293979977387414),\n",
       " ('this', 0.09924591465797242),\n",
       " ('is', 0.1086102347240488),\n",
       " ('it', 0.11536595914077863),\n",
       " ('in', 0.12606221366364628),\n",
       " ('that', 0.20722099077039452)]"
      ]
     },
     "execution_count": 63,
     "metadata": {},
     "output_type": "execute_result"
    }
   ],
   "source": [
    "IDF_tokens_sorted[:10]"
   ]
  },
  {
   "cell_type": "markdown",
   "metadata": {},
   "source": [
    "5. Compute the T F -IDF . Combine the definitions of term frequency (TF) and inverse document frequency (IDF), to produce a composite weight for each term in each document. The T F -IDF weighting scheme assigns to a term t a weight in the document d given by..."
   ]
  },
  {
   "cell_type": "code",
   "execution_count": 64,
   "metadata": {},
   "outputs": [],
   "source": [
    "def TF_IDF_compute(df_TF, df_IDF):\n",
    "    DF = []\n",
    "\n",
    "    for doc in df_TF:\n",
    "        token_dict = {}\n",
    "        for token in doc:\n",
    "            token_dict[token] = doc[token] * df_IDF[token]\n",
    "        DF.append(token_dict)\n",
    "    return DF"
   ]
  },
  {
   "cell_type": "code",
   "execution_count": 65,
   "metadata": {},
   "outputs": [],
   "source": [
    "TF_IDF_table = TF_IDF_compute(aclimdb_reviews_train_dicts, IDF_tokens)"
   ]
  },
  {
   "cell_type": "code",
   "execution_count": 66,
   "metadata": {},
   "outputs": [
    {
     "name": "stdout",
     "output_type": "stream",
     "text": [
      "{'for': 1.005075851886905, 'a': 0.16757709668908488, 'movie': 0.9813925049416498, 'that': 0.20722099077039452, 'gets': 2.257229391273248, 'no': 1.1141321003261466, 'respect': 3.9845936982629815, 'there': 0.837387134278689, 'sure': 2.3530366364901436, 'are': 0.5868431101899066, 'lot': 2.0319474551515233, 'of': 0.05226218466281087, 'memorable': 3.6936910111111585, 'quotes': 5.5940316106970815, 'listed': 5.339139361068292, 'this': 0.09924591465797242, 'gem': 4.291820366787733, 'imagine': 3.587045148232668, 'where': 1.655900786844441, 'joe': 4.137669686960474, 'piscopo': 7.418580902748128, 'is': 0.3258307041721464, 'actually': 1.982532640511814, 'funny': 2.0743346043116913, 'maureen': 6.437751649736401, 'stapleton': 7.561681746388801, 'scene': 1.8767946184246356, 'stealer': 7.487573774235079, 'the': 0.016628939208170476, 'moroni': 8.740336742730447, 'character': 1.641547966352334, 'an': 0.7166205367455873, 'absolute': 4.315490110873637, 'scream': 4.706096104578052, 'watch': 1.5199629060064976, 'alan': 4.625372893305611, 'skipper': 7.929406526514119, 'hale': 6.515713191206113, 'jr': 4.5932416151228175, 'as': 0.4389391649658812, 'police': 3.460947386067929, 'sgt': 6.4630694577206915, '1\\n': 0.6931471805599453}\n"
     ]
    }
   ],
   "source": [
    "print(TF_IDF_table[0])"
   ]
  },
  {
   "cell_type": "markdown",
   "metadata": {},
   "source": [
    "6. Sentiment analysis. Given a document, identify if it belongs to positive or negative comments calculating the similarity between the comments in the two groups. How do we quantify the similarity between two documents exploiting TF-IDF vector representation? A first attempt might consider the magnitude of the vector difference between two document vectors. This measure suffers from a drawback: two documents with very similar content can have a significant vector difference simply because one is much longer than the other..."
   ]
  },
  {
   "cell_type": "code",
   "execution_count": 67,
   "metadata": {},
   "outputs": [],
   "source": [
    "def norm(d):\n",
    "    \"\"\"Compute the L2-norm of a vector representation.\"\"\"\n",
    "    return sum([ tf_idf**2 for t, tf_idf in d.items() ])**.5\n",
    "\n",
    "def dot_product(d1, d2):\n",
    "    \"\"\"Compute the dot product between two vector representations.\"\"\"\n",
    "    word_set = set(list(d1.keys()) + list(d2.keys()))\n",
    "    return sum([( d1.get(d, 0.0) * d2.get(d, 0.0)) for d in word_set ])\n",
    "    \n",
    "def cosine_similarity(d1, d2):\n",
    "    \"\"\"\n",
    "    Compute the cosine similarity between documents d1 and d2.\n",
    "    Input: two dictionaries representing the TF-IDF vectors for documents\n",
    "    d1 and d2.\n",
    "    Output: the cosine similarity.\n",
    "    \"\"\"\n",
    "    return dot_product(d1, d2) / (norm(d1) * norm(d2))"
   ]
  },
  {
   "cell_type": "code",
   "execution_count": 68,
   "metadata": {},
   "outputs": [
    {
     "data": {
      "text/plain": [
       "0.001300919263980217"
      ]
     },
     "execution_count": 68,
     "metadata": {},
     "output_type": "execute_result"
    }
   ],
   "source": [
    "cosine_similarity(TF_IDF_table[0],TF_IDF_table[1])"
   ]
  },
  {
   "cell_type": "code",
   "execution_count": 69,
   "metadata": {},
   "outputs": [],
   "source": [
    "from collections import Counter\n",
    "\n",
    "reviews, labels = [], []\n",
    "# use the UTF-8 encoding to read the file\n",
    "with open('aclimdb_reviews_train.txt', encoding='utf-8') as fp:\n",
    "    reader = csv.reader(fp)\n",
    "    next(reader) # skip the header\n",
    "    for row in reader:\n",
    "        reviews.append(row[0])\n",
    "        labels.append(row[1])"
   ]
  },
  {
   "cell_type": "code",
   "execution_count": 70,
   "metadata": {},
   "outputs": [
    {
     "data": {
      "text/plain": [
       "(12500, 12500)"
      ]
     },
     "execution_count": 70,
     "metadata": {},
     "output_type": "execute_result"
    }
   ],
   "source": [
    "pos_i = [i for i, label in enumerate(labels) if label == '1']\n",
    "neg_i = [i for i, label in enumerate(labels) if label == '0']\n",
    "len(pos_i), len(neg_i)"
   ]
  },
  {
   "cell_type": "code",
   "execution_count": 72,
   "metadata": {},
   "outputs": [
    {
     "name": "stdout",
     "output_type": "stream",
     "text": [
      "\n",
      "Interrupted\n",
      "Computed 7 reviews up to now. Accuracy: 71.43%\n"
     ]
    }
   ],
   "source": [
    "import numpy as np\n",
    "\n",
    "tf_idf = TF_IDF_table\n",
    "\n",
    "similarities = []\n",
    "y_true = labels\n",
    "y_pred = []\n",
    "r_len = len(tf_idf)\n",
    "try:\n",
    "    for i, r1 in enumerate(tf_idf):\n",
    "        store_sim = []\n",
    "        curr_sim = []\n",
    "        for j, r2 in enumerate(tf_idf):\n",
    "            if j == i:\n",
    "                curr_sim.append(-1) # this value will never be used\n",
    "            elif j < i:\n",
    "                curr_sim.append(similarities[j][i-j-1]) # reuse the similarities already evaluated\n",
    "            else:\n",
    "                s = cosine_similarity(tf_idf[j], tf_idf[i])\n",
    "                store_sim.append(s)\n",
    "                curr_sim.append(s)\n",
    "        similarities.append(store_sim) # store only the similarities computed in this iteration\n",
    "        \n",
    "        if i in pos_i:\n",
    "            p_mask = pos_i.copy()\n",
    "            p_mask.pop(i)\n",
    "            n_mask = neg_i\n",
    "        else:\n",
    "            p_mask = pos_i\n",
    "            n_mask = neg_i.copy()\n",
    "            n_mask.pop(i)\n",
    "            \n",
    "        p_mean = np.array(curr_sim)[p_mask].mean()\n",
    "        n_mean = np.array(curr_sim)[n_mask].mean()   \n",
    "        \n",
    "        if p_mean > n_mean:\n",
    "            y_pred.append('1')\n",
    "        else:\n",
    "            y_pred.append('0')\n",
    "            \n",
    "        print(f'{100*i/(r_len):.2f}%', end='\\r')\n",
    "except KeyboardInterrupt:\n",
    "    print('\\nInterrupted')\n",
    "    pred_c = len(y_pred)\n",
    "    correct = sum([1 for t, p in zip(y_pred, y_true[:pred_c]) if t == p])\n",
    "    print(f'Computed {i} reviews up to now. Accuracy: {correct/pred_c * 100:.2f}%')"
   ]
  }
 ],
 "metadata": {
  "interpreter": {
   "hash": "b9912e19f637bc0bbddfba41d0db5acc7b7f7d78291050fc62af43d5b08367c8"
  },
  "kernelspec": {
   "display_name": "Python 3.8.11 64-bit ('data_science_lab': conda)",
   "name": "python3"
  },
  "language_info": {
   "codemirror_mode": {
    "name": "ipython",
    "version": 3
   },
   "file_extension": ".py",
   "mimetype": "text/x-python",
   "name": "python",
   "nbconvert_exporter": "python",
   "pygments_lexer": "ipython3",
   "version": "3.8.11"
  },
  "orig_nbformat": 4
 },
 "nbformat": 4,
 "nbformat_minor": 2
}
