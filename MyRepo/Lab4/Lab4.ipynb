{
 "cells": [
  {
   "cell_type": "markdown",
   "metadata": {},
   "source": [
    "# LAB 4"
   ]
  },
  {
   "cell_type": "markdown",
   "metadata": {},
   "source": [
    "## KNN design and implementation"
   ]
  },
  {
   "cell_type": "code",
   "execution_count": 1,
   "metadata": {},
   "outputs": [],
   "source": [
    "import pandas as pd\n",
    "import numpy as np\n",
    "from collections import Counter"
   ]
  },
  {
   "cell_type": "markdown",
   "metadata": {},
   "source": [
    "1. Load the Iris dataset"
   ]
  },
  {
   "cell_type": "code",
   "execution_count": 299,
   "metadata": {},
   "outputs": [],
   "source": [
    "df = pd.read_csv(\"https://archive.ics.uci.edu/ml/machine-learning-databases/iris/iris.data\", header = None)"
   ]
  },
  {
   "cell_type": "markdown",
   "metadata": {},
   "source": [
    "2. X_test and y_test creation"
   ]
  },
  {
   "cell_type": "code",
   "execution_count": 300,
   "metadata": {},
   "outputs": [],
   "source": [
    "iris_array = df.to_numpy()\n",
    "\n",
    "indexes_array = np.arange(iris_array.shape[0])\n",
    "test_indexes = np.random.choice(indexes_array, size = int(iris_array.shape[0]*0.2), replace=False)\n",
    "test_array = iris_array[test_indexes, :]\n",
    "\n",
    "X_test = test_array[:,0:4]\n",
    "y_test = test_array[:,4]"
   ]
  },
  {
   "cell_type": "markdown",
   "metadata": {},
   "source": [
    "3. X_train and y_train creation"
   ]
  },
  {
   "cell_type": "code",
   "execution_count": 301,
   "metadata": {},
   "outputs": [],
   "source": [
    "train_indexes = indexes_array[~np.in1d(indexes_array, test_indexes)]\n",
    "X_train = iris_array[train_indexes, 0:4]\n",
    "y_train = iris_array[train_indexes, 4]"
   ]
  },
  {
   "cell_type": "code",
   "execution_count": 302,
   "metadata": {},
   "outputs": [
    {
     "data": {
      "text/plain": [
       "Counter({'Iris-setosa': 42, 'Iris-versicolor': 38, 'Iris-virginica': 40})"
      ]
     },
     "execution_count": 302,
     "metadata": {},
     "output_type": "execute_result"
    }
   ],
   "source": [
    "Counter(y_train)"
   ]
  },
  {
   "cell_type": "markdown",
   "metadata": {},
   "source": [
    "4. Implement fit for KNN"
   ]
  },
  {
   "cell_type": "code",
   "execution_count": 303,
   "metadata": {},
   "outputs": [],
   "source": [
    "class KNearestNeighbors:\n",
    "    def __init__(self, k, distance_metric=\"euclidean\"):\n",
    "        self.k = k\n",
    "        self.distance_metric = distance_metric\n",
    "    def fit(self, X, y):\n",
    "        \"\"\"\n",
    "        Store the 'prior knowledge'of you model that will be used\n",
    "        to predict new labels.\n",
    "        :param X : input data points, ndarray, shape = (R,C).\n",
    "        :param y : input labels, ndarray, shape = (R,).\n",
    "        \"\"\"\n",
    "        self.xtrain = X\n",
    "        self.ytrain = y\n",
    "        # pass # TODO: implement it!\n",
    "    def predict(self, X):\n",
    "        \"\"\"Run the KNN classification on X.\n",
    "        :param X: input data points, ndarray, shape = (N,C).\n",
    "        :return: labels : ndarray, shape = (N,).\n",
    "        \"\"\"\n",
    "        pass # TODO: implement it!"
   ]
  },
  {
   "cell_type": "markdown",
   "metadata": {},
   "source": [
    "5. Define distance functions"
   ]
  },
  {
   "cell_type": "code",
   "execution_count": 304,
   "metadata": {},
   "outputs": [],
   "source": [
    "def euclidean_distance(p,q):\n",
    "    return np.sqrt(((p-q)**2).sum())\n",
    "\n",
    "def cosine_distance(p,q):\n",
    "    num = (p*q).sum()\n",
    "    den = np.sqrt((p**2).sum())*np.sqrt((q**2).sum())\n",
    "    return 1-abs(num/den)\n",
    "\n",
    "def manhattan_distance(p,q):\n",
    "    return (abs(p-q)).sum()"
   ]
  },
  {
   "cell_type": "code",
   "execution_count": 305,
   "metadata": {},
   "outputs": [],
   "source": [
    "# a = np.array([1,2,3])\n",
    "# b = np.array([1,3,2])\n",
    "# euclidean_distance(a,b)\n",
    "# cosine_distance(a,b)\n",
    "# manhattan_distance(a,b)"
   ]
  },
  {
   "cell_type": "markdown",
   "metadata": {},
   "source": [
    "6. Implement predict for KNN"
   ]
  },
  {
   "cell_type": "code",
   "execution_count": 306,
   "metadata": {},
   "outputs": [],
   "source": [
    "class KNearestNeighbors:\n",
    "    def __init__(self, k, distance_metric=\"euclidean\"):\n",
    "        self.k = k\n",
    "        self.distance_metric = distance_metric\n",
    "        \n",
    "    def fit(self, X, y):\n",
    "        \"\"\"\n",
    "        Store the 'prior knowledge'of you model that will be used\n",
    "        to predict new labels.\n",
    "        :param X : input data points, ndarray, shape = (R,C).\n",
    "        :param y : input labels, ndarray, shape = (R,).\n",
    "        \"\"\"\n",
    "        self.xtrain = X\n",
    "        self.ytrain = y\n",
    "\n",
    "    def predict(self, X):\n",
    "        \"\"\"Run the KNN classification on X.\n",
    "        :param X: input data points, ndarray, shape = (N,C).\n",
    "        :return: labels : ndarray, shape = (N,).\n",
    "        \"\"\"\n",
    "        self.xtest = X\n",
    "\n",
    "        if self.distance_metric == 'euclidean':\n",
    "            compute_distance = euclidean_distance\n",
    "        elif self.distance_metric == 'cosine':\n",
    "            compute_distance = cosine_distance\n",
    "        elif self.distance_metric == 'manhattan':\n",
    "            compute_distance = manhattan_distance\n",
    "        else: \n",
    "            print(\"Unknown metric\")\n",
    "            return None\n",
    "\n",
    "        out_matrix = list()\n",
    "        for p in self.xtest:\n",
    "            out_vector = list()\n",
    "            for q in self.xtrain:\n",
    "                out_vector.append(compute_distance(p,q))\n",
    "                # print(q,p,out_vector)\n",
    "            out_matrix.append(np.argsort(out_vector)[:self.k])\n",
    "            # print(np.argsort(out_vector)[:self.k])\n",
    "        out_matrix = np.array(out_matrix)\n",
    "        \n",
    "        y_out = []\n",
    "\n",
    "        for vec_ind in out_matrix:\n",
    "            # label_assign(self.ytrain,np.array(vec_ind))\n",
    "            y_out.append(label_assign(self.ytrain,np.array(vec_ind)))\n",
    "\n",
    "        # print(out_matrix)\n",
    "        # print(ytest)\n",
    "        return np.array(y_out)\n"
   ]
  },
  {
   "cell_type": "code",
   "execution_count": 307,
   "metadata": {},
   "outputs": [],
   "source": [
    "def label_assign(y_train, ind):\n",
    "    # print(y_train, ind)\n",
    "    label, n_occurrences = np.unique(y_train[ind], return_counts=True)\n",
    "    # return np.random.choice(label,1)[0] \n",
    "    return np.random.choice(label[n_occurrences==np.max(n_occurrences)],1)[0] # restituisco la label con più occorrenze, o, in caso di parità, una fra le label con più occorrenze"
   ]
  },
  {
   "cell_type": "markdown",
   "metadata": {},
   "source": [
    "7. Now let’s fit the KNN model with the X_train and y_train data."
   ]
  },
  {
   "cell_type": "code",
   "execution_count": 309,
   "metadata": {},
   "outputs": [
    {
     "data": {
      "text/plain": [
       "array(['Iris-versicolor', 'Iris-versicolor', 'Iris-setosa', 'Iris-setosa',\n",
       "       'Iris-versicolor', 'Iris-virginica', 'Iris-versicolor',\n",
       "       'Iris-setosa', 'Iris-setosa', 'Iris-versicolor', 'Iris-virginica',\n",
       "       'Iris-versicolor', 'Iris-virginica', 'Iris-virginica',\n",
       "       'Iris-setosa', 'Iris-versicolor', 'Iris-versicolor',\n",
       "       'Iris-versicolor', 'Iris-virginica', 'Iris-virginica',\n",
       "       'Iris-setosa', 'Iris-setosa', 'Iris-versicolor', 'Iris-virginica',\n",
       "       'Iris-setosa', 'Iris-virginica', 'Iris-versicolor',\n",
       "       'Iris-virginica', 'Iris-virginica', 'Iris-versicolor'],\n",
       "      dtype='<U15')"
      ]
     },
     "execution_count": 309,
     "metadata": {},
     "output_type": "execute_result"
    }
   ],
   "source": [
    "knn1 = KNearestNeighbors(5, distance_metric=\"cosine\")\n",
    "knn1.fit(X_train, y_train)\n",
    "y_pred = knn1.predict(X_test)\n",
    "\n",
    "y_pred"
   ]
  },
  {
   "cell_type": "code",
   "execution_count": 310,
   "metadata": {},
   "outputs": [],
   "source": [
    "def accuracy_score(y_true, y_pred):\n",
    "    return (y_true==y_pred).sum()/len(y_true)"
   ]
  },
  {
   "cell_type": "code",
   "execution_count": 311,
   "metadata": {},
   "outputs": [
    {
     "data": {
      "text/plain": [
       "0.9333333333333333"
      ]
     },
     "execution_count": 311,
     "metadata": {},
     "output_type": "execute_result"
    }
   ],
   "source": [
    "accuracy_score(y_test, y_pred)"
   ]
  },
  {
   "cell_type": "markdown",
   "metadata": {},
   "source": [
    "# Broadcasting\n",
    "Si possono operare somme fra matrici se:\n",
    "1. Le dimensioni sono uguali\n",
    "2. Se una dimensione su una matrice è >1 e la corrispondente dimensione sull'altra matrice è =1\n",
    "\n",
    "Si noti che una matrice avente dimensione (N,M) è come se fosse a una matrice avente dimensione (1,N,M), o una matrice (1,1,N,M), o un matrice (1,1,1,N,M), etc.; pertanto, affinché sia possibile operare somme fra matrici, usando il broadcasting automatico, è sufficiente che le due matrici abbiano le stesse dimensioni (o dimensione 1) partendo dall'ultima.\n",
    "#### Esempio\n",
    "<ul>\n",
    "<li>(A,B,N,M) + (A,B,N,M) --> Funziona</li>\n",
    "<li>(A,B,N,M) + (N,M) --> Funziona</li>\n",
    "<li>(A,B,N,M) + (A,1,N,1) --> Funziona</li>\n",
    "<li>(A,B,N,M) + (N,1) --> Funziona</li>\n",
    "</ul>\n",
    "\n",
    "Se si vuole assegnare la dimensione 1 a un'altra posizione diversa dalla prima (e.g., (N,1,M)), usare la funzione <code>expand_dims(axis=\\<posizione_inserimento\\>)</code>"
   ]
  },
  {
   "cell_type": "code",
   "execution_count": 41,
   "metadata": {},
   "outputs": [
    {
     "data": {
      "text/plain": [
       "array([[[[[2., 2., 2., 2., 2., 2.],\n",
       "          [2., 2., 2., 2., 2., 2.],\n",
       "          [2., 2., 2., 2., 2., 2.],\n",
       "          [2., 2., 2., 2., 2., 2.],\n",
       "          [2., 2., 2., 2., 2., 2.]],\n",
       "\n",
       "         [[2., 2., 2., 2., 2., 2.],\n",
       "          [2., 2., 2., 2., 2., 2.],\n",
       "          [2., 2., 2., 2., 2., 2.],\n",
       "          [2., 2., 2., 2., 2., 2.],\n",
       "          [2., 2., 2., 2., 2., 2.]],\n",
       "\n",
       "         [[2., 2., 2., 2., 2., 2.],\n",
       "          [2., 2., 2., 2., 2., 2.],\n",
       "          [2., 2., 2., 2., 2., 2.],\n",
       "          [2., 2., 2., 2., 2., 2.],\n",
       "          [2., 2., 2., 2., 2., 2.]],\n",
       "\n",
       "         [[2., 2., 2., 2., 2., 2.],\n",
       "          [2., 2., 2., 2., 2., 2.],\n",
       "          [2., 2., 2., 2., 2., 2.],\n",
       "          [2., 2., 2., 2., 2., 2.],\n",
       "          [2., 2., 2., 2., 2., 2.]]],\n",
       "\n",
       "\n",
       "        [[[2., 2., 2., 2., 2., 2.],\n",
       "          [2., 2., 2., 2., 2., 2.],\n",
       "          [2., 2., 2., 2., 2., 2.],\n",
       "          [2., 2., 2., 2., 2., 2.],\n",
       "          [2., 2., 2., 2., 2., 2.]],\n",
       "\n",
       "         [[2., 2., 2., 2., 2., 2.],\n",
       "          [2., 2., 2., 2., 2., 2.],\n",
       "          [2., 2., 2., 2., 2., 2.],\n",
       "          [2., 2., 2., 2., 2., 2.],\n",
       "          [2., 2., 2., 2., 2., 2.]],\n",
       "\n",
       "         [[2., 2., 2., 2., 2., 2.],\n",
       "          [2., 2., 2., 2., 2., 2.],\n",
       "          [2., 2., 2., 2., 2., 2.],\n",
       "          [2., 2., 2., 2., 2., 2.],\n",
       "          [2., 2., 2., 2., 2., 2.]],\n",
       "\n",
       "         [[2., 2., 2., 2., 2., 2.],\n",
       "          [2., 2., 2., 2., 2., 2.],\n",
       "          [2., 2., 2., 2., 2., 2.],\n",
       "          [2., 2., 2., 2., 2., 2.],\n",
       "          [2., 2., 2., 2., 2., 2.]]],\n",
       "\n",
       "\n",
       "        [[[2., 2., 2., 2., 2., 2.],\n",
       "          [2., 2., 2., 2., 2., 2.],\n",
       "          [2., 2., 2., 2., 2., 2.],\n",
       "          [2., 2., 2., 2., 2., 2.],\n",
       "          [2., 2., 2., 2., 2., 2.]],\n",
       "\n",
       "         [[2., 2., 2., 2., 2., 2.],\n",
       "          [2., 2., 2., 2., 2., 2.],\n",
       "          [2., 2., 2., 2., 2., 2.],\n",
       "          [2., 2., 2., 2., 2., 2.],\n",
       "          [2., 2., 2., 2., 2., 2.]],\n",
       "\n",
       "         [[2., 2., 2., 2., 2., 2.],\n",
       "          [2., 2., 2., 2., 2., 2.],\n",
       "          [2., 2., 2., 2., 2., 2.],\n",
       "          [2., 2., 2., 2., 2., 2.],\n",
       "          [2., 2., 2., 2., 2., 2.]],\n",
       "\n",
       "         [[2., 2., 2., 2., 2., 2.],\n",
       "          [2., 2., 2., 2., 2., 2.],\n",
       "          [2., 2., 2., 2., 2., 2.],\n",
       "          [2., 2., 2., 2., 2., 2.],\n",
       "          [2., 2., 2., 2., 2., 2.]]]],\n",
       "\n",
       "\n",
       "\n",
       "       [[[[2., 2., 2., 2., 2., 2.],\n",
       "          [2., 2., 2., 2., 2., 2.],\n",
       "          [2., 2., 2., 2., 2., 2.],\n",
       "          [2., 2., 2., 2., 2., 2.],\n",
       "          [2., 2., 2., 2., 2., 2.]],\n",
       "\n",
       "         [[2., 2., 2., 2., 2., 2.],\n",
       "          [2., 2., 2., 2., 2., 2.],\n",
       "          [2., 2., 2., 2., 2., 2.],\n",
       "          [2., 2., 2., 2., 2., 2.],\n",
       "          [2., 2., 2., 2., 2., 2.]],\n",
       "\n",
       "         [[2., 2., 2., 2., 2., 2.],\n",
       "          [2., 2., 2., 2., 2., 2.],\n",
       "          [2., 2., 2., 2., 2., 2.],\n",
       "          [2., 2., 2., 2., 2., 2.],\n",
       "          [2., 2., 2., 2., 2., 2.]],\n",
       "\n",
       "         [[2., 2., 2., 2., 2., 2.],\n",
       "          [2., 2., 2., 2., 2., 2.],\n",
       "          [2., 2., 2., 2., 2., 2.],\n",
       "          [2., 2., 2., 2., 2., 2.],\n",
       "          [2., 2., 2., 2., 2., 2.]]],\n",
       "\n",
       "\n",
       "        [[[2., 2., 2., 2., 2., 2.],\n",
       "          [2., 2., 2., 2., 2., 2.],\n",
       "          [2., 2., 2., 2., 2., 2.],\n",
       "          [2., 2., 2., 2., 2., 2.],\n",
       "          [2., 2., 2., 2., 2., 2.]],\n",
       "\n",
       "         [[2., 2., 2., 2., 2., 2.],\n",
       "          [2., 2., 2., 2., 2., 2.],\n",
       "          [2., 2., 2., 2., 2., 2.],\n",
       "          [2., 2., 2., 2., 2., 2.],\n",
       "          [2., 2., 2., 2., 2., 2.]],\n",
       "\n",
       "         [[2., 2., 2., 2., 2., 2.],\n",
       "          [2., 2., 2., 2., 2., 2.],\n",
       "          [2., 2., 2., 2., 2., 2.],\n",
       "          [2., 2., 2., 2., 2., 2.],\n",
       "          [2., 2., 2., 2., 2., 2.]],\n",
       "\n",
       "         [[2., 2., 2., 2., 2., 2.],\n",
       "          [2., 2., 2., 2., 2., 2.],\n",
       "          [2., 2., 2., 2., 2., 2.],\n",
       "          [2., 2., 2., 2., 2., 2.],\n",
       "          [2., 2., 2., 2., 2., 2.]]],\n",
       "\n",
       "\n",
       "        [[[2., 2., 2., 2., 2., 2.],\n",
       "          [2., 2., 2., 2., 2., 2.],\n",
       "          [2., 2., 2., 2., 2., 2.],\n",
       "          [2., 2., 2., 2., 2., 2.],\n",
       "          [2., 2., 2., 2., 2., 2.]],\n",
       "\n",
       "         [[2., 2., 2., 2., 2., 2.],\n",
       "          [2., 2., 2., 2., 2., 2.],\n",
       "          [2., 2., 2., 2., 2., 2.],\n",
       "          [2., 2., 2., 2., 2., 2.],\n",
       "          [2., 2., 2., 2., 2., 2.]],\n",
       "\n",
       "         [[2., 2., 2., 2., 2., 2.],\n",
       "          [2., 2., 2., 2., 2., 2.],\n",
       "          [2., 2., 2., 2., 2., 2.],\n",
       "          [2., 2., 2., 2., 2., 2.],\n",
       "          [2., 2., 2., 2., 2., 2.]],\n",
       "\n",
       "         [[2., 2., 2., 2., 2., 2.],\n",
       "          [2., 2., 2., 2., 2., 2.],\n",
       "          [2., 2., 2., 2., 2., 2.],\n",
       "          [2., 2., 2., 2., 2., 2.],\n",
       "          [2., 2., 2., 2., 2., 2.]]]]])"
      ]
     },
     "execution_count": 41,
     "metadata": {},
     "output_type": "execute_result"
    }
   ],
   "source": [
    "a = np.ones((2,3,4,5,6))\n",
    "b = np.ones((5,1))\n",
    "a+b"
   ]
  },
  {
   "cell_type": "code",
   "execution_count": 27,
   "metadata": {},
   "outputs": [
    {
     "name": "stdout",
     "output_type": "stream",
     "text": [
      "(2, 1, 5, 3) (8, 5, 1)\n"
     ]
    },
    {
     "data": {
      "text/plain": [
       "array([[[[2., 2., 2.],\n",
       "         [2., 2., 2.],\n",
       "         [2., 2., 2.],\n",
       "         [2., 2., 2.],\n",
       "         [2., 2., 2.]],\n",
       "\n",
       "        [[2., 2., 2.],\n",
       "         [2., 2., 2.],\n",
       "         [2., 2., 2.],\n",
       "         [2., 2., 2.],\n",
       "         [2., 2., 2.]],\n",
       "\n",
       "        [[2., 2., 2.],\n",
       "         [2., 2., 2.],\n",
       "         [2., 2., 2.],\n",
       "         [2., 2., 2.],\n",
       "         [2., 2., 2.]],\n",
       "\n",
       "        [[2., 2., 2.],\n",
       "         [2., 2., 2.],\n",
       "         [2., 2., 2.],\n",
       "         [2., 2., 2.],\n",
       "         [2., 2., 2.]],\n",
       "\n",
       "        [[2., 2., 2.],\n",
       "         [2., 2., 2.],\n",
       "         [2., 2., 2.],\n",
       "         [2., 2., 2.],\n",
       "         [2., 2., 2.]],\n",
       "\n",
       "        [[2., 2., 2.],\n",
       "         [2., 2., 2.],\n",
       "         [2., 2., 2.],\n",
       "         [2., 2., 2.],\n",
       "         [2., 2., 2.]],\n",
       "\n",
       "        [[2., 2., 2.],\n",
       "         [2., 2., 2.],\n",
       "         [2., 2., 2.],\n",
       "         [2., 2., 2.],\n",
       "         [2., 2., 2.]],\n",
       "\n",
       "        [[2., 2., 2.],\n",
       "         [2., 2., 2.],\n",
       "         [2., 2., 2.],\n",
       "         [2., 2., 2.],\n",
       "         [2., 2., 2.]]],\n",
       "\n",
       "\n",
       "       [[[2., 2., 2.],\n",
       "         [2., 2., 2.],\n",
       "         [2., 2., 2.],\n",
       "         [2., 2., 2.],\n",
       "         [2., 2., 2.]],\n",
       "\n",
       "        [[2., 2., 2.],\n",
       "         [2., 2., 2.],\n",
       "         [2., 2., 2.],\n",
       "         [2., 2., 2.],\n",
       "         [2., 2., 2.]],\n",
       "\n",
       "        [[2., 2., 2.],\n",
       "         [2., 2., 2.],\n",
       "         [2., 2., 2.],\n",
       "         [2., 2., 2.],\n",
       "         [2., 2., 2.]],\n",
       "\n",
       "        [[2., 2., 2.],\n",
       "         [2., 2., 2.],\n",
       "         [2., 2., 2.],\n",
       "         [2., 2., 2.],\n",
       "         [2., 2., 2.]],\n",
       "\n",
       "        [[2., 2., 2.],\n",
       "         [2., 2., 2.],\n",
       "         [2., 2., 2.],\n",
       "         [2., 2., 2.],\n",
       "         [2., 2., 2.]],\n",
       "\n",
       "        [[2., 2., 2.],\n",
       "         [2., 2., 2.],\n",
       "         [2., 2., 2.],\n",
       "         [2., 2., 2.],\n",
       "         [2., 2., 2.]],\n",
       "\n",
       "        [[2., 2., 2.],\n",
       "         [2., 2., 2.],\n",
       "         [2., 2., 2.],\n",
       "         [2., 2., 2.],\n",
       "         [2., 2., 2.]],\n",
       "\n",
       "        [[2., 2., 2.],\n",
       "         [2., 2., 2.],\n",
       "         [2., 2., 2.],\n",
       "         [2., 2., 2.],\n",
       "         [2., 2., 2.]]]])"
      ]
     },
     "execution_count": 27,
     "metadata": {},
     "output_type": "execute_result"
    }
   ],
   "source": [
    "a = np.ones((2,5,3))\n",
    "b = np.ones((8,5))\n",
    "\n",
    "\n",
    "c = np.expand_dims(a,axis=1)\n",
    "d = np.expand_dims(b,axis=2)\n",
    "print(c.shape, d.shape)\n",
    "c+d\n",
    "# a+b"
   ]
  }
 ],
 "metadata": {
  "interpreter": {
   "hash": "bd8ee3559d665fee903f84f74f9742602cb00cb47768a52cae0fe6e115d1a823"
  },
  "kernelspec": {
   "display_name": "Python 3.8.12 64-bit ('data_science_lab_2': conda)",
   "language": "python",
   "name": "python3"
  },
  "language_info": {
   "codemirror_mode": {
    "name": "ipython",
    "version": 3
   },
   "file_extension": ".py",
   "mimetype": "text/x-python",
   "name": "python",
   "nbconvert_exporter": "python",
   "pygments_lexer": "ipython3",
   "version": "3.8.12"
  },
  "orig_nbformat": 4
 },
 "nbformat": 4,
 "nbformat_minor": 2
}
