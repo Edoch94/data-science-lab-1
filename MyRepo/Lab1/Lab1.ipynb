{
 "cells": [
  {
   "cell_type": "markdown",
   "metadata": {},
   "source": [
    "# LAB 1"
   ]
  },
  {
   "cell_type": "markdown",
   "metadata": {},
   "source": [
    "Notice that it is possible to execute command line code in Jupyter Notebooks (and Colab and Deepnote) inserting an exclamation point before the command\n",
    "See the example below"
   ]
  },
  {
   "cell_type": "code",
   "execution_count": null,
   "metadata": {},
   "outputs": [],
   "source": [
    "! wget \"https://archive.ics.uci.edu/ml/machine-learning-databases/iris/iris.data\" -O iris.csv"
   ]
  },
  {
   "cell_type": "markdown",
   "metadata": {},
   "source": [
    "## Iris dataset"
   ]
  },
  {
   "cell_type": "markdown",
   "metadata": {},
   "source": [
    "1. Load the previously downloaded Iris dataset as a list of lists (each of the 150 lists should have\n",
    "5 elements). You can make use of the csv module presented. You can read more about the csv\n",
    "module on the official documentation."
   ]
  },
  {
   "cell_type": "code",
   "execution_count": 1,
   "metadata": {},
   "outputs": [],
   "source": [
    "import csv"
   ]
  },
  {
   "cell_type": "code",
   "execution_count": 5,
   "metadata": {},
   "outputs": [],
   "source": [
    "iris_list = []\n",
    "\n",
    "with open(\"iris.csv\") as iris_file:\n",
    "    file_reader = csv.reader(iris_file)\n",
    "    for row in file_reader:\n",
    "        iris_list.append(row)\n"
   ]
  },
  {
   "cell_type": "markdown",
   "metadata": {},
   "source": [
    "2. Compute and print the mean and the standard deviation for each of the 4 measurement columns\n",
    "(i.e. sepal length and width, petal length and width). Remember that, for a given list of n values\n",
    "x= (x1,x2,...,xn), the mean μ and the standard deviation σ are defined respectively as:"
   ]
  },
  {
   "cell_type": "code",
   "execution_count": 40,
   "metadata": {},
   "outputs": [
    {
     "name": "stdout",
     "output_type": "stream",
     "text": [
      "sepal_length_mean = 5.843333333333335\n",
      "sepal_width_mean = 3.0540000000000007\n",
      "petal_length_mean = 3.7586666666666693\n",
      "petal_width_mean = 1.1986666666666672\n",
      "\n",
      "sepal_length_stdev = 0.8253012917851409\n",
      "sepal_width_stdev = 0.4321465800705435\n",
      "petal_length_stdev = 1.7585291834055201\n",
      "petal_width_stdev = 0.760612618588172\n"
     ]
    }
   ],
   "source": [
    "if len(iris_list) == 151:\n",
    "    del iris_list[-1]\n",
    "\n",
    "iris_list_dict = []\n",
    "\n",
    "iris_field = ['sepal_length', 'sepal_width', 'petal_length', 'petal_width', 'type']\n",
    "\n",
    "# trasformo la lista in un dizionario\n",
    "for index, row in enumerate(iris_list):\n",
    "    iris_list_dict.append({})\n",
    "    # iris_list_dict[-1] = {f, v for f, v in zip(iris_field, row)}\n",
    "    for field, value in zip(iris_field, row):\n",
    "        iris_list_dict[-1][field] = value\n",
    "        \n",
    "# faccio calcoli\n",
    "sepal_length_sum = 0\n",
    "sepal_width_sum = 0\n",
    "petal_length_sum = 0\n",
    "petal_width_sum = 0\n",
    "\n",
    "for row in iris_list:\n",
    "    sepal_length_sum += float(row[0])\n",
    "    sepal_width_sum += float(row[1])\n",
    "    petal_length_sum += float(row[2])\n",
    "    petal_width_sum += float(row[3])\n",
    "\n",
    "sepal_width_mean = sepal_width_sum / len(iris_list)\n",
    "sepal_length_mean = sepal_length_sum / len(iris_list)\n",
    "petal_length_mean = petal_length_sum / len(iris_list)\n",
    "petal_width_mean = petal_width_sum / len(iris_list)\n",
    "\n",
    "sepal_length_sumsq = 0\n",
    "sepal_width_sumsq = 0\n",
    "petal_length_sumsq = 0\n",
    "petal_width_sumsq = 0\n",
    "\n",
    "for row in iris_list:\n",
    "    sepal_length_sumsq += (float(row[0]) - sepal_length_mean)**2\n",
    "    sepal_width_sumsq += (float(row[1]) - sepal_width_mean)**2\n",
    "    petal_length_sumsq += (float(row[2]) - petal_length_mean)**2\n",
    "    petal_width_sumsq += (float(row[3]) - petal_width_mean)**2\n",
    "\n",
    "sepal_length_stdev = (sepal_length_sumsq/150)**(1/2)\n",
    "sepal_width_stdev = (sepal_width_sumsq/150)**(1/2)\n",
    "petal_length_stdev = (petal_length_sumsq/150)**(1/2)\n",
    "petal_width_stdev = (petal_width_sumsq/150)**(1/2)\n",
    "\n",
    "print(f\"sepal_length_mean = {sepal_length_mean}\")\n",
    "print(f\"sepal_width_mean = {sepal_width_mean}\")\n",
    "print(f\"petal_length_mean = {petal_length_mean}\")\n",
    "print(f\"petal_width_mean = {petal_width_mean}\")\n",
    "print()\n",
    "print(f\"sepal_length_stdev = {sepal_length_stdev}\")\n",
    "print(f\"sepal_width_stdev = {sepal_width_stdev}\")\n",
    "print(f\"petal_length_stdev = {petal_length_stdev}\")\n",
    "print(f\"petal_width_stdev = {petal_width_stdev}\")\n"
   ]
  },
  {
   "cell_type": "markdown",
   "metadata": {},
   "source": [
    "3. Compute and print the mean and the standard deviation for each of the 4 measurement columns,\n",
    "separately for each of the three Iris species (versicolor, virginica and setosa)."
   ]
  },
  {
   "cell_type": "code",
   "execution_count": 131,
   "metadata": {},
   "outputs": [
    {
     "name": "stdout",
     "output_type": "stream",
     "text": [
      "{'Iris-versicolor': 5.936, 'Iris-virginica': 6.587999999999998, 'Iris-setosa': 5.005999999999999}\n",
      "{'Iris-versicolor': 2.7700000000000005, 'Iris-virginica': 2.9739999999999998, 'Iris-setosa': 3.4180000000000006}\n",
      "{'Iris-versicolor': 4.26, 'Iris-virginica': 5.552, 'Iris-setosa': 1.464}\n",
      "{'Iris-versicolor': 1.3259999999999998, 'Iris-virginica': 2.026, 'Iris-setosa': 0.2439999999999999}\n",
      "\n",
      "{'Iris-versicolor': 5.936, 'Iris-virginica': 6.587999999999998, 'Iris-setosa': 5.005999999999999}\n",
      "{'Iris-versicolor': 2.7700000000000005, 'Iris-virginica': 2.9739999999999998, 'Iris-setosa': 3.4180000000000006}\n",
      "{'Iris-versicolor': 4.26, 'Iris-virginica': 5.552, 'Iris-setosa': 1.464}\n",
      "{'Iris-versicolor': 1.3259999999999998, 'Iris-virginica': 2.026, 'Iris-setosa': 0.2439999999999999}\n"
     ]
    }
   ],
   "source": [
    "sepal_length_sum_byType = {'Iris-versicolor' : 0.0, 'Iris-virginica' : 0.0, 'Iris-setosa' : 0.0}\n",
    "sepal_width_sum_byType = {'Iris-versicolor' : 0.0, 'Iris-virginica' : 0.0, 'Iris-setosa' : 0.0}\n",
    "petal_length_sum_byType = {'Iris-versicolor' : 0.0, 'Iris-virginica' : 0.0, 'Iris-setosa' : 0.0}\n",
    "petal_width_sum_byType = {'Iris-versicolor' : 0.0, 'Iris-virginica' : 0.0, 'Iris-setosa' : 0.0}\n",
    "\n",
    "occurence_count_byType = {'Iris-versicolor' : 0.0, 'Iris-virginica' : 0.0, 'Iris-setosa' : 0.0}\n",
    "\n",
    "for row in iris_list:\n",
    "    sepal_length_sum_byType[row[4]] += float(row[0])\n",
    "    sepal_width_sum_byType[row[4]] += float(row[1])\n",
    "    petal_length_sum_byType[row[4]] += float(row[2])\n",
    "    petal_width_sum_byType[row[4]] += float(row[3])\n",
    "    occurence_count_byType[row[4]] += 1\n",
    "\n",
    "sepal_length_mean_byType = {'Iris-versicolor' : 0.0, 'Iris-virginica' : 0.0, 'Iris-setosa' : 0.0}\n",
    "sepal_width_mean_byType = {'Iris-versicolor' : 0.0, 'Iris-virginica' : 0.0, 'Iris-setosa' : 0.0}\n",
    "petal_length_mean_byType = {'Iris-versicolor' : 0.0, 'Iris-virginica' : 0.0, 'Iris-setosa' : 0.0}\n",
    "petal_width_mean_byType = {'Iris-versicolor' : 0.0, 'Iris-virginica' : 0.0, 'Iris-setosa' : 0.0}\n",
    "\n",
    "for k in occurence_count_byType.keys():\n",
    "    sepal_length_mean_byType[k] = sepal_length_sum_byType[k] / occurence_count_byType[k]\n",
    "    sepal_width_mean_byType[k] = sepal_width_sum_byType[k] / occurence_count_byType[k]\n",
    "    petal_length_mean_byType[k] = petal_length_sum_byType[k] / occurence_count_byType[k]\n",
    "    petal_width_mean_byType[k] = petal_width_sum_byType[k] / occurence_count_byType[k]\n",
    "\n",
    "sepal_length_sumsq_byType = {'Iris-versicolor' : 0.0, 'Iris-virginica' : 0.0, 'Iris-setosa' : 0.0}\n",
    "sepal_width_sumsq_byType = {'Iris-versicolor' : 0.0, 'Iris-virginica' : 0.0, 'Iris-setosa' : 0.0}\n",
    "petal_length_sumsq_byType = {'Iris-versicolor' : 0.0, 'Iris-virginica' : 0.0, 'Iris-setosa' : 0.0}\n",
    "petal_width_sumsq_byType = {'Iris-versicolor' : 0.0, 'Iris-virginica' : 0.0, 'Iris-setosa' : 0.0}\n",
    "\n",
    "for row in iris_list:\n",
    "    sepal_length_sumsq_byType[row[4]] += (float(row[0]) - sepal_length_mean_byType[row[4]])**2\n",
    "    sepal_width_sumsq_byType[row[4]] += (float(row[1]) - sepal_width_mean_byType[row[4]])**2\n",
    "    petal_length_sumsq_byType[row[4]] += (float(row[2]) - petal_length_mean_byType[row[4]])**2\n",
    "    petal_width_sumsq_byType[row[4]] += (float(row[3]) - petal_width_mean_byType[row[4]])**2\n",
    "\n",
    "sepal_length_stdev_byType = {'Iris-versicolor' : 0.0, 'Iris-virginica' : 0.0, 'Iris-setosa' : 0.0}\n",
    "sepal_width_stdev_byType = {'Iris-versicolor' : 0.0, 'Iris-virginica' : 0.0, 'Iris-setosa' : 0.0}\n",
    "petal_length_stdev_byType = {'Iris-versicolor' : 0.0, 'Iris-virginica' : 0.0, 'Iris-setosa' : 0.0}\n",
    "petal_width_stdev_byType = {'Iris-versicolor' : 0.0, 'Iris-virginica' : 0.0, 'Iris-setosa' : 0.0}\n",
    "\n",
    "for k in occurence_count_byType.keys():\n",
    "    sepal_length_stdev_byType[k] = (sepal_length_sumsq_byType[k]/occurence_count_byType[k])**(1/2)\n",
    "    sepal_width_stdev_byType[k] = (sepal_width_sumsq_byType[k]/occurence_count_byType[k])**(1/2)\n",
    "    petal_length_stdev_byType[k] = (petal_length_sumsq_byType[k]/occurence_count_byType[k])**(1/2)\n",
    "    petal_width_stdev_byType[k] = (petal_width_sumsq_byType[k]/occurence_count_byType[k])**(1/2)\n",
    "\n",
    "print(sepal_length_mean_byType)\n",
    "print(sepal_width_mean_byType)\n",
    "print(petal_length_mean_byType)\n",
    "print(petal_width_mean_byType)\n",
    "print()\n",
    "print(sepal_length_mean_byType)\n",
    "print(sepal_width_mean_byType)\n",
    "print(petal_length_mean_byType)\n",
    "print(petal_width_mean_byType)"
   ]
  },
  {
   "cell_type": "markdown",
   "metadata": {},
   "source": [
    "4. Based on the results of exercises 2 and 3, which of the 4 measurements would you considering as being the most characterizing one for the three species? (In other words, which measurement would you consider “best”, if you were to guess the Iris species based only on those four values?)"
   ]
  },
  {
   "cell_type": "markdown",
   "metadata": {},
   "source": [
    "The higher the differences between the measure means of different species and the lower the measure standard deviations, the more that measure characterizes the species"
   ]
  },
  {
   "cell_type": "code",
   "execution_count": 145,
   "metadata": {},
   "outputs": [
    {
     "name": "stdout",
     "output_type": "stream",
     "text": [
      "{'sepal_length': 1.054666666666666, 'sepal_width': 0.4320000000000001, 'petal_length': 2.725333333333333, 'petal_width': 1.188}\n"
     ]
    }
   ],
   "source": [
    "measure_dict = {'sepal_length' : [], 'sepal_width' : [], 'petal_length' : [], 'petal_width' : []}\n",
    "\n",
    "measure_dict['sepal_width'] = list(sepal_width_mean_byType.values())\n",
    "measure_dict['sepal_length'] = list(sepal_length_mean_byType.values())\n",
    "measure_dict['petal_width'] = list(petal_width_mean_byType.values())\n",
    "measure_dict['petal_length'] = list(petal_length_mean_byType.values())\n",
    "    \n",
    "def mean_distance(x):\n",
    "    d = []\n",
    "    for pos1, i in enumerate(x):\n",
    "        for pos2, j in enumerate(x):\n",
    "            if pos1 < pos2: \n",
    "                d.append(abs(i-j))\n",
    "    return sum(d)/len(d)\n",
    "\n",
    "measure_mean_distances = {'sepal_length' : 0.0, 'sepal_width' : 0.0, 'petal_length' : 0.0, 'petal_width' : 0.0}\n",
    "measure_mean_stdevs = {'sepal_length' : 0.0, 'sepal_width' : 0.0, 'petal_length' : 0.0, 'petal_width' : 0.0}\n",
    "\n",
    "for k in measure_dict.keys():\n",
    "    measure_mean_distances[k] = mean_distance(measure_dict[k])\n",
    "\n",
    "print(measure_mean_distances)\n",
    "\n"
   ]
  },
  {
   "cell_type": "markdown",
   "metadata": {},
   "source": [
    "5. Based on the considerations of Exercise 3, assign the flowers with the following measurements\n",
    "to what you consider would be the most likely species."
   ]
  },
  {
   "cell_type": "markdown",
   "metadata": {},
   "source": [
    "I would compute the euclidean distance between the measures of each flower and the measure of each category"
   ]
  },
  {
   "cell_type": "code",
   "execution_count": 146,
   "metadata": {},
   "outputs": [
    {
     "name": "stdout",
     "output_type": "stream",
     "text": [
      "{'sepal_length': 5.936, 'sepal_width': 2.7700000000000005, 'petal_length': 4.26, 'petal_width': 1.3259999999999998}\n"
     ]
    }
   ],
   "source": [
    "flower1 = [5.2, 3.1, 4.0, 1.2]\n",
    "flower2 = [4.9, 2.5, 5.6, 2.0]\n",
    "flower3 = [5.4, 3.2, 1.9, 0.4]\n",
    "\n",
    "flowers = {'flower1' : [5.2, 3.1, 4.0, 1.2], 'flower2' : [4.9, 2.5, 5.6, 2.0], 'flower3' : [5.4, 3.2, 1.9, 0.4]}\n",
    "Iris_versicolor = {'sepal_length' : 0.0, 'sepal_width' : 0.0, 'petal_length' : 0.0, 'petal_width' : 0.0}\n",
    "Iris_virginica = {'sepal_length' : 0.0, 'sepal_width' : 0.0, 'petal_length' : 0.0, 'petal_width' : 0.0}\n",
    "Iris_setosa = {'sepal_length' : 0.0, 'sepal_width' : 0.0, 'petal_length' : 0.0, 'petal_width' : 0.0}\n",
    "\n",
    "Iris_versicolor['sepal_length'] = sepal_length_mean_byType['Iris-versicolor']\n",
    "Iris_versicolor['sepal_width'] = sepal_width_mean_byType['Iris-versicolor']\n",
    "Iris_versicolor['petal_length'] = petal_length_mean_byType['Iris-versicolor']\n",
    "Iris_versicolor['petal_width'] = petal_width_mean_byType['Iris-versicolor']\n",
    "\n",
    "Iris_virginica['sepal_length'] = sepal_length_mean_byType['Iris-virginica']\n",
    "Iris_virginica['sepal_width'] = sepal_width_mean_byType['Iris-virginica']\n",
    "Iris_virginica['petal_length'] = petal_length_mean_byType['Iris-virginica']\n",
    "Iris_virginica['petal_width'] = petal_width_mean_byType['Iris-virginica']\n",
    "\n",
    "Iris_setosa['sepal_length'] = sepal_length_mean_byType['Iris-setosa']\n",
    "Iris_setosa['sepal_width'] = sepal_width_mean_byType['Iris-setosa']\n",
    "Iris_setosa['petal_length'] = petal_length_mean_byType['Iris-setosa']\n",
    "Iris_setosa['petal_width'] = petal_width_mean_byType['Iris-setosa']\n",
    "\n",
    "\n",
    "def euclidean_distance_flowers(x, y):\n",
    "    dist = sum([(int(x_el) - int(y_el))**2 for x_el, y_el in zip(x, y)])\n",
    "    return dist**(1/2)\n",
    "\n",
    "print(Iris_versicolor)"
   ]
  },
  {
   "cell_type": "markdown",
   "metadata": {},
   "source": [
    "## Citybik.es dataset"
   ]
  },
  {
   "cell_type": "markdown",
   "metadata": {},
   "source": [
    "1. Load the previously downloaded Citybik.es dataset as a Python dictionary. You can make use of the\n",
    "json module presented. You can find the full documentation for the json module here. After the\n",
    "dictionary is loaded, explore its contents from an interactive shell."
   ]
  },
  {
   "cell_type": "code",
   "execution_count": 52,
   "metadata": {},
   "outputs": [],
   "source": [
    "import json "
   ]
  },
  {
   "cell_type": "code",
   "execution_count": 53,
   "metadata": {},
   "outputs": [],
   "source": [
    "with open('to_bike.json') as f:\n",
    "    to_bike = json.load(f)\n",
    "    "
   ]
  },
  {
   "cell_type": "markdown",
   "metadata": {},
   "source": [
    "2. Count and print the number of active stations (a station is active if its extra.status field is \"online\")."
   ]
  },
  {
   "cell_type": "code",
   "execution_count": 58,
   "metadata": {},
   "outputs": [],
   "source": [
    "to_bike_network = to_bike['network']"
   ]
  },
  {
   "cell_type": "code",
   "execution_count": 70,
   "metadata": {},
   "outputs": [
    {
     "data": {
      "text/plain": [
       "dict_keys(['company', 'href', 'id', 'location', 'name', 'source', 'stations'])"
      ]
     },
     "execution_count": 70,
     "metadata": {},
     "output_type": "execute_result"
    }
   ],
   "source": [
    "to_bike_network.keys()\n",
    "# to_bike_network"
   ]
  },
  {
   "cell_type": "code",
   "execution_count": 66,
   "metadata": {},
   "outputs": [
    {
     "data": {
      "text/plain": [
       "True"
      ]
     },
     "execution_count": 66,
     "metadata": {},
     "output_type": "execute_result"
    }
   ],
   "source": [
    "to_bike_network_stations = to_bike_network['stations']\n",
    "isinstance(to_bike_network_stations, list)"
   ]
  },
  {
   "cell_type": "code",
   "execution_count": 73,
   "metadata": {},
   "outputs": [
    {
     "data": {
      "text/plain": [
       "{'empty_slots': 11,\n",
       " 'extra': {'number': 5,\n",
       "  'reviews': 221,\n",
       "  'score': 3.4,\n",
       "  'status': 'online',\n",
       "  'uid': '254'},\n",
       " 'free_bikes': 4,\n",
       " 'id': '53a856e2cd42e9bfbc022f6cdc6d2e1c',\n",
       " 'latitude': 45.072642,\n",
       " 'longitude': 7.670337,\n",
       " 'name': 'Cernaia',\n",
       " 'timestamp': '2021-10-12T13:31:42.846000Z'}"
      ]
     },
     "execution_count": 73,
     "metadata": {},
     "output_type": "execute_result"
    }
   ],
   "source": [
    "# len(to_bike['network']['stations'])\n",
    "to_bike['network']['stations'][1]"
   ]
  },
  {
   "cell_type": "code",
   "execution_count": 80,
   "metadata": {},
   "outputs": [
    {
     "name": "stdout",
     "output_type": "stream",
     "text": [
      "40\n"
     ]
    }
   ],
   "source": [
    "number_active = 0\n",
    "\n",
    "for i in to_bike['network']['stations']:\n",
    "    if i['extra']['status'] == 'online':\n",
    "        number_active += 1\n",
    "\n",
    "print(number_active)"
   ]
  },
  {
   "cell_type": "markdown",
   "metadata": {},
   "source": [
    "3. Count and print the total number of bikes available (field free_bikes) and the number of free docks\n",
    "(field empty_slots) throughout all stations."
   ]
  },
  {
   "cell_type": "code",
   "execution_count": 83,
   "metadata": {},
   "outputs": [
    {
     "name": "stdout",
     "output_type": "stream",
     "text": [
      "158\n",
      "318\n"
     ]
    }
   ],
   "source": [
    "free_bikes = 0\n",
    "free_docks = 0\n",
    "\n",
    "for i in to_bike['network']['stations']:\n",
    "    free_bikes += i['free_bikes']\n",
    "    free_docks += i['empty_slots']\n",
    "\n",
    "print(free_bikes)\n",
    "print(free_docks)"
   ]
  },
  {
   "cell_type": "markdown",
   "metadata": {},
   "source": [
    "# MNIST dataset"
   ]
  },
  {
   "cell_type": "markdown",
   "metadata": {},
   "source": [
    "1. Load the previously downloaded MNIST dataset. You can make use of the csv module already\n",
    "presented."
   ]
  },
  {
   "cell_type": "code",
   "execution_count": 86,
   "metadata": {},
   "outputs": [],
   "source": [
    "mnist_list = []\n",
    "\n",
    "with open('mnist_test.csv') as mnist_file:\n",
    "    mnist_reader = csv.reader(mnist_file)\n",
    "    for row in mnist_reader:\n",
    "        mnist_list.append(row)"
   ]
  },
  {
   "cell_type": "markdown",
   "metadata": {},
   "source": [
    "2. Create a function that, given a position 1 ≤ k ≤ 10,000, prints the kth digit of the dataset (i.e. the\n",
    "kth row of the csv file) as a grid of 28 ×28 characters. More specifically, you should map each range\n",
    "of pixel values to the following characters:"
   ]
  },
  {
   "cell_type": "code",
   "execution_count": 105,
   "metadata": {},
   "outputs": [],
   "source": [
    "def image_generator(k = 1):\n",
    "    try: \n",
    "        symbols = []\n",
    "        for v in mnist_list[k-1]:\n",
    "            if int(v) < 64: symbols.append(' ')\n",
    "            elif int(v) < 128: symbols.append('.')\n",
    "            elif int(v) < 192: symbols.append('*')\n",
    "            else: symbols.append('#')\n",
    "        \n",
    "        for pos, s in enumerate(symbols):\n",
    "            if (pos+1)%28 != 0: print(s, end='')\n",
    "            else: print(s)\n",
    "    except IndexError:\n",
    "        print(f'k must be lower than 10000, inserted k={k}') "
   ]
  },
  {
   "cell_type": "code",
   "execution_count": 106,
   "metadata": {},
   "outputs": [
    {
     "name": "stdout",
     "output_type": "stream",
     "text": [
      "k must be lower than 10000, inserted k=20000\n"
     ]
    }
   ],
   "source": [
    "image_generator(k=20000)"
   ]
  },
  {
   "cell_type": "markdown",
   "metadata": {},
   "source": [
    "3. Compute the Euclidean distance between each pair of the 784-dimensional vectors of the digits at\n",
    "the following positions: 26th, 30th, 32nd, 35th."
   ]
  },
  {
   "cell_type": "code",
   "execution_count": 119,
   "metadata": {},
   "outputs": [],
   "source": [
    "def euclidean_distance(x, y):\n",
    "    dist = sum([(int(x_el) - int(y_el))**2 for x_el, y_el in zip(x, y)])\n",
    "    return dist**(1/2)"
   ]
  },
  {
   "cell_type": "code",
   "execution_count": 126,
   "metadata": {},
   "outputs": [
    {
     "name": "stdout",
     "output_type": "stream",
     "text": [
      "[{'vec1': 26, 'vec2': 30, 'distance': 3539.2233611344736}, {'vec1': 26, 'vec2': 32, 'distance': 3556.420110166964}, {'vec1': 26, 'vec2': 35, 'distance': 3223.2145445191823}, {'vec1': 30, 'vec2': 26, 'distance': 3539.2233611344736}, {'vec1': 30, 'vec2': 32, 'distance': 1171.8293391104355}, {'vec1': 30, 'vec2': 35, 'distance': 2531.010470148237}, {'vec1': 32, 'vec2': 26, 'distance': 3556.420110166964}, {'vec1': 32, 'vec2': 30, 'distance': 1171.8293391104355}, {'vec1': 32, 'vec2': 35, 'distance': 2515.5671328748117}, {'vec1': 35, 'vec2': 26, 'distance': 3223.2145445191823}, {'vec1': 35, 'vec2': 30, 'distance': 2531.010470148237}, {'vec1': 35, 'vec2': 32, 'distance': 2515.5671328748117}]\n"
     ]
    }
   ],
   "source": [
    "considered_vectors = [26,30,32,35]\n",
    "\n",
    "distances = []\n",
    "\n",
    "for vec1 in considered_vectors:\n",
    "    for vec2 in considered_vectors:\n",
    "        if vec1 != vec2:\n",
    "            distances.append({'vec1':vec1, 'vec2':vec2, 'distance':euclidean_distance(mnist_list[vec1-1], mnist_list[vec2-1])})\n",
    "\n",
    "print(distances)"
   ]
  }
 ],
 "metadata": {
  "interpreter": {
   "hash": "b9912e19f637bc0bbddfba41d0db5acc7b7f7d78291050fc62af43d5b08367c8"
  },
  "kernelspec": {
   "display_name": "Python 3.8.11 64-bit ('data_science_lab': conda)",
   "name": "python3"
  },
  "language_info": {
   "codemirror_mode": {
    "name": "ipython",
    "version": 3
   },
   "file_extension": ".py",
   "mimetype": "text/x-python",
   "name": "python",
   "nbconvert_exporter": "python",
   "pygments_lexer": "ipython3",
   "version": "3.8.11"
  },
  "orig_nbformat": 4
 },
 "nbformat": 4,
 "nbformat_minor": 2
}
